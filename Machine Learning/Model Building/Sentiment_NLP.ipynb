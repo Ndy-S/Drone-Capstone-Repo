{
 "cells": [
  {
   "cell_type": "code",
   "execution_count": 1,
   "metadata": {},
   "outputs": [],
   "source": [
    "# import library\n",
    "import numpy as np\n",
    "import pandas as pd\n",
    "import matplotlib.pyplot as plt\n",
    "import re\n",
    "import string\n",
    "import emoji\n",
    "\n",
    "import tensorflow as tf\n",
    "from tensorflow.keras.preprocessing.text import Tokenizer\n",
    "from tensorflow.keras.preprocessing.sequence import pad_sequences\n",
    "from tensorflow.keras import regularizers\n",
    "\n",
    "# stemmer Sastrawi\n",
    "from Sastrawi.Stemmer.StemmerFactory import StemmerFactory"
   ]
  },
  {
   "cell_type": "code",
   "execution_count": 2,
   "metadata": {},
   "outputs": [
    {
     "data": {
      "text/html": [
       "<div>\n",
       "<style scoped>\n",
       "    .dataframe tbody tr th:only-of-type {\n",
       "        vertical-align: middle;\n",
       "    }\n",
       "\n",
       "    .dataframe tbody tr th {\n",
       "        vertical-align: top;\n",
       "    }\n",
       "\n",
       "    .dataframe thead th {\n",
       "        text-align: right;\n",
       "    }\n",
       "</style>\n",
       "<table border=\"1\" class=\"dataframe\">\n",
       "  <thead>\n",
       "    <tr style=\"text-align: right;\">\n",
       "      <th></th>\n",
       "      <th>review_rating</th>\n",
       "      <th>review_text</th>\n",
       "    </tr>\n",
       "  </thead>\n",
       "  <tbody>\n",
       "    <tr>\n",
       "      <th>0</th>\n",
       "      <td>5</td>\n",
       "      <td>akhirnya bisa nemu laundry yang bisa antar jem...</td>\n",
       "    </tr>\n",
       "    <tr>\n",
       "      <th>1</th>\n",
       "      <td>5</td>\n",
       "      <td>Layanan yang sangat baik dan kualitas yang bai...</td>\n",
       "    </tr>\n",
       "    <tr>\n",
       "      <th>2</th>\n",
       "      <td>5</td>\n",
       "      <td>Ok hasil kerja cuciannya bagus dan bersih wang...</td>\n",
       "    </tr>\n",
       "    <tr>\n",
       "      <th>3</th>\n",
       "      <td>1</td>\n",
       "      <td>1 Baju stel perempuan harga 900 ribu merek Mis...</td>\n",
       "    </tr>\n",
       "    <tr>\n",
       "      <th>4</th>\n",
       "      <td>1</td>\n",
       "      <td>Cuci disini, baju yang tadinya bagus, malah ja...</td>\n",
       "    </tr>\n",
       "  </tbody>\n",
       "</table>\n",
       "</div>"
      ],
      "text/plain": [
       "   review_rating                                        review_text\n",
       "0              5  akhirnya bisa nemu laundry yang bisa antar jem...\n",
       "1              5  Layanan yang sangat baik dan kualitas yang bai...\n",
       "2              5  Ok hasil kerja cuciannya bagus dan bersih wang...\n",
       "3              1  1 Baju stel perempuan harga 900 ribu merek Mis...\n",
       "4              1  Cuci disini, baju yang tadinya bagus, malah ja..."
      ]
     },
     "execution_count": 2,
     "metadata": {},
     "output_type": "execute_result"
    }
   ],
   "source": [
    "# Read datasets\n",
    "df = pd.read_excel('laundry_reviews_dataset.xlsx')\n",
    "df.head()"
   ]
  },
  {
   "cell_type": "code",
   "execution_count": 3,
   "metadata": {},
   "outputs": [
    {
     "data": {
      "text/plain": [
       "'akhirnya bisa nemu laundry yang bisa antar jemput barokalloh nuhun suka cuci'"
      ]
     },
     "execution_count": 3,
     "metadata": {},
     "output_type": "execute_result"
    }
   ],
   "source": [
    "# Preprocessing\n",
    "## Drop all columns except review_text\n",
    "df.dropna(subset=['review_text'], inplace=True)\n",
    "\n",
    "df['review_text'] = df['review_text'].str.lower()\n",
    "df['review_text'] = df['review_text'].astype(str)\n",
    "df['review_text'] = df['review_text'].apply(lambda x: re.sub(r\"\\d+\", \"\", x))\n",
    "df['review_text'] = df['review_text'].apply(lambda x: x.translate(str.maketrans(\"\", \"\", string.punctuation)))\n",
    "df['review_text'] = df['review_text'].str.strip()\n",
    "df['review_text'] = df['review_text'].apply(lambda x: re.sub('\\s+', ' ', x))\n",
    "df['review_text'] = df['review_text'].apply(lambda x: re.sub(r'[\\u2070-\\u209F\\u00B2-\\u00B3\\u00B9-\\u00BF\\u02B0-\\u036F\\u1AB0-\\u1AFF\\u2090-\\u2094]+', '', x))\n",
    "\n",
    "df['review_text'] = df['review_text'].apply(lambda x: emoji.demojize(x))\n",
    "\n",
    "df['review_text'] = df['review_text'].apply(lambda x: x.translate(str.maketrans(string.punctuation, ' ' * len(string.punctuation))))\n",
    "df['review_text'] = df['review_text'].str.strip()\n",
    "df['review_text'] = df['review_text'].apply(lambda x: re.sub('\\s+', ' ', x))\n",
    "\n",
    "df['review_text'] = df['review_text'].apply(lambda x: re.sub(r'[^\\u0000-\\u007F\\uD800-\\uDBFF\\uDC00-\\uDFFF]+', '', x))\n",
    "\n",
    "df['review_text'][0]"
   ]
  },
  {
   "cell_type": "code",
   "execution_count": 4,
   "metadata": {},
   "outputs": [
    {
     "name": "stdout",
     "output_type": "stream",
     "text": [
      "Count of 0 (Negative) sentiment: 1002\n",
      "Count of 1 (Positive) sentiment: 1197\n"
     ]
    }
   ],
   "source": [
    "# Assign label to negative and positive reviews\n",
    "df['labels'] = df.review_rating.apply(lambda x: 0 if x in [1, 2, 3] else 1)\n",
    "df.head()\n",
    "\n",
    "# Check each label total reviews data\n",
    "lenNegSentiment = df['labels'].value_counts()[0]\n",
    "lenPosSentiment = df['labels'].value_counts()[1]\n",
    "print(\"Count of 0 (Negative) sentiment:\", lenNegSentiment)\n",
    "print(\"Count of 1 (Positive) sentiment:\", lenPosSentiment)"
   ]
  },
  {
   "cell_type": "code",
   "execution_count": 5,
   "metadata": {},
   "outputs": [],
   "source": [
    "# # Balancing Negative and Positive Reviews\n",
    "\n",
    "# posData = df[df['labels'] == 1]\n",
    "# negData = df[df['labels'] == 0]\n",
    "\n",
    "# randPosData = posData.sample(n=1000, random_state=40)\n",
    "# randNegData = negData.sample(n=1000, random_state=40)\n",
    "\n",
    "# randCombinedData = pd.concat([randPosData, randNegData])\n",
    "\n",
    "# df = df.loc[randCombinedData.index]\n",
    "# df['review_text'] = randCombinedData['review_text']\n",
    "\n",
    "# lenNegSentiment = df['labels'].value_counts()[0]\n",
    "# lenPosSentiment = df['labels'].value_counts()[1]\n",
    "# print(\"Count of 0 (Negative) sentiment:\", lenNegSentiment)\n",
    "# print(\"Count of 1 (Positive) sentiment:\", lenPosSentiment)"
   ]
  },
  {
   "cell_type": "code",
   "execution_count": 6,
   "metadata": {},
   "outputs": [],
   "source": [
    "# define the required variabel for preprocessing\n",
    "vocab_size = 5000\n",
    "embedding_dim = 16\n",
    "max_length = 120\n",
    "trunc_type = 'post'\n",
    "oov_tok = '<OOV>'\n",
    "padding_type = 'post'\n",
    "training_split = 0.8"
   ]
  },
  {
   "cell_type": "code",
   "execution_count": 7,
   "metadata": {},
   "outputs": [],
   "source": [
    "df_preproccessing = df.copy()"
   ]
  },
  {
   "cell_type": "code",
   "execution_count": 8,
   "metadata": {},
   "outputs": [],
   "source": [
    "# create function for remove stop_words \n",
    "def remove_stopwords(sentences, stopwords):\n",
    "    \"\"\"\n",
    "    Removes a list of stopwords\n",
    "    \n",
    "    Args:\n",
    "        sentence (string): sentence to remove the stopwords from\n",
    "        stopwords (list) : list stopwrods\n",
    "    \n",
    "    Returns:\n",
    "        sentence (string): lowercase sentence without the stopwords\n",
    "    \"\"\"\n",
    "    # List of stopwords\n",
    "    \n",
    "    # Sentence converted to lowercase-only\n",
    "    sentence = sentences.lower()\n",
    "\n",
    "    words = sentence.split()\n",
    "    no_words = [w for w in words if w not in stopwords]\n",
    "    sentence = \" \".join(no_words)\n",
    "\n",
    "    return sentence"
   ]
  },
  {
   "cell_type": "code",
   "execution_count": 9,
   "metadata": {},
   "outputs": [],
   "source": [
    "# create function for split data\n",
    "def train_val_split(sentences, labels, size_training_split):\n",
    "    \n",
    "    train_size = round(len(sentences) * size_training_split)\n",
    "\n",
    "    # training dataset\n",
    "    training_reviews = sentences[:train_size]\n",
    "    training_labels =  labels[:train_size]\n",
    "\n",
    "    # validations data\n",
    "    validation_review = sentences[train_size:]\n",
    "    validation_labels = labels[train_size:]\n",
    "\n",
    "    return training_reviews, validation_review, training_labels, validation_labels"
   ]
  },
  {
   "cell_type": "code",
   "execution_count": 10,
   "metadata": {},
   "outputs": [
    {
     "name": "stdout",
     "output_type": "stream",
     "text": [
      "There are 1759 sentences for training.\n",
      "\n",
      "There are 1759 labels for training.\n",
      "\n",
      "There are 440 sentences for validation.\n",
      "\n",
      "There are 440 labels for validation.\n"
     ]
    }
   ],
   "source": [
    "# Split training and testing\n",
    "sentences = df_preproccessing['review_text']\n",
    "labels = df_preproccessing['labels']\n",
    "train_sentences, test_sentences, train_labels, test_labels = train_val_split(sentences, labels, training_split)\n",
    "\n",
    "print(f\"There are {len(train_sentences)} sentences for training.\\n\")\n",
    "print(f\"There are {len(train_labels)} labels for training.\\n\")\n",
    "print(f\"There are {len(test_sentences)} sentences for validation.\\n\")\n",
    "print(f\"There are {len(test_labels)} labels for validation.\")"
   ]
  },
  {
   "cell_type": "code",
   "execution_count": 11,
   "metadata": {},
   "outputs": [
    {
     "name": "stdout",
     "output_type": "stream",
     "text": [
      "['atau', 'ada', 'adalah', 'adanya', 'agar', 'akan', 'aku', 'anda', 'antara', 'apa']\n"
     ]
    }
   ],
   "source": [
    "# read file stopwords.txt and convert into list stopwords\n",
    "my_file = open(\"stopwords.txt\", \"r\")\n",
    "  \n",
    "# reading the file\n",
    "data = my_file.read()\n",
    "  \n",
    "# replacing end splitting the text \n",
    "# when newline ('\\n') is seen.\n",
    "stopwords = data.split(\"\\n\")\n",
    "\n",
    "print(stopwords[:10])"
   ]
  },
  {
   "cell_type": "code",
   "execution_count": 12,
   "metadata": {},
   "outputs": [],
   "source": [
    "# remove stopwords \n",
    "train_sentences = train_sentences.apply(lambda x: remove_stopwords(x, stopwords))"
   ]
  },
  {
   "cell_type": "code",
   "execution_count": 13,
   "metadata": {},
   "outputs": [
    {
     "name": "stdout",
     "output_type": "stream",
     "text": [
      "before drop stopwords :  cuci disini baju yang tadinya bagus malah jadi bercak hitam saya tunggu ganti ruginya\n",
      "after drop stopwords :  cuci disini baju bagus bercak hitam tunggu ganti ruginya\n"
     ]
    }
   ],
   "source": [
    "print(\"before drop stopwords : \", df_preproccessing['review_text'][4])\n",
    "print(\"after drop stopwords : \" , train_sentences[4])"
   ]
  },
  {
   "cell_type": "code",
   "execution_count": 14,
   "metadata": {},
   "outputs": [],
   "source": [
    "# Preprocessing Stemming \n",
    "factory = StemmerFactory()\n",
    "stemmer = factory.create_stemmer()\n",
    "\n",
    "train_sentences = train_sentences.apply(lambda x: stemmer.stem(x))\n"
   ]
  },
  {
   "cell_type": "code",
   "execution_count": 15,
   "metadata": {},
   "outputs": [
    {
     "name": "stdout",
     "output_type": "stream",
     "text": [
      "The review before stemmer :  cuci disini baju yang tadinya bagus malah jadi bercak hitam saya tunggu ganti ruginya\n",
      "The review after stemmer :  cuci sini baju bagus bercak hitam tunggu ganti rugi\n"
     ]
    }
   ],
   "source": [
    "print(\"The review before stemmer : \", df_preproccessing['review_text'][4])\n",
    "print(\"The review after stemmer : \", train_sentences[4])"
   ]
  },
  {
   "cell_type": "code",
   "execution_count": 16,
   "metadata": {},
   "outputs": [
    {
     "name": "stdout",
     "output_type": "stream",
     "text": [
      "Vocabulary contains 5192 words\n",
      "\n",
      "<OOV> token included in vocabulary\n"
     ]
    }
   ],
   "source": [
    "tokenizer = Tokenizer(num_words=vocab_size, oov_token=oov_tok)\n",
    "tokenizer.fit_on_texts(train_sentences)\n",
    "word_index = tokenizer.word_index\n",
    "\n",
    "print(f\"Vocabulary contains {len(word_index)} words\\n\")\n",
    "print(\"<OOV> token included in vocabulary\" if \"<OOV>\" in word_index else \"<OOV> token NOT included in vocabulary\")"
   ]
  },
  {
   "cell_type": "code",
   "execution_count": 17,
   "metadata": {},
   "outputs": [],
   "source": [
    "trainSequences = tokenizer.texts_to_sequences(train_sentences)\n",
    "trainPadded = pad_sequences(trainSequences, maxlen=max_length, padding=padding_type , truncating=trunc_type)\n",
    "\n",
    "testSequences = tokenizer.texts_to_sequences(test_sentences)\n",
    "testPadded = pad_sequences(testSequences, maxlen=max_length, padding=padding_type, truncating=trunc_type)"
   ]
  },
  {
   "cell_type": "code",
   "execution_count": 18,
   "metadata": {},
   "outputs": [
    {
     "name": "stdout",
     "output_type": "stream",
     "text": [
      "Model: \"sequential\"\n",
      "_________________________________________________________________\n",
      " Layer (type)                Output Shape              Param #   \n",
      "=================================================================\n",
      " embedding (Embedding)       (None, 120, 16)           80000     \n",
      "                                                                 \n",
      " global_average_pooling1d (G  (None, 16)               0         \n",
      " lobalAveragePooling1D)                                          \n",
      "                                                                 \n",
      " dense (Dense)               (None, 256)               4352      \n",
      "                                                                 \n",
      " dropout (Dropout)           (None, 256)               0         \n",
      "                                                                 \n",
      " dense_1 (Dense)             (None, 1)                 257       \n",
      "                                                                 \n",
      "=================================================================\n",
      "Total params: 84,609\n",
      "Trainable params: 84,609\n",
      "Non-trainable params: 0\n",
      "_________________________________________________________________\n"
     ]
    }
   ],
   "source": [
    "model = tf.keras.Sequential([\n",
    "    tf.keras.layers.Embedding(vocab_size, embedding_dim, input_length=max_length),\n",
    "    # tf.keras.layers.Dropout(0.2),\n",
    "    # tf.keras.layers.Bidirectional(tf.keras.layers.LSTM(64)),\n",
    "    tf.keras.layers.GlobalAveragePooling1D(),\n",
    "    tf.keras.layers.Dense(256, activation='relu', kernel_regularizer=tf.keras.regularizers.l2(0.01)),\n",
    "    tf.keras.layers.Dropout(0.2),\n",
    "    tf.keras.layers.Dense(1, activation='sigmoid')\n",
    "])\n",
    "\n",
    "model.compile(loss='binary_crossentropy', optimizer='adam', metrics=['accuracy'])\n",
    "\n",
    "model.summary()"
   ]
  },
  {
   "cell_type": "code",
   "execution_count": 19,
   "metadata": {},
   "outputs": [
    {
     "name": "stdout",
     "output_type": "stream",
     "text": [
      "Epoch 1/100\n",
      "55/55 [==============================] - 6s 27ms/step - loss: 0.8363 - accuracy: 0.6799 - val_loss: 1.0851 - val_accuracy: 0.0000e+00\n",
      "Epoch 2/100\n",
      "55/55 [==============================] - 1s 13ms/step - loss: 0.6712 - accuracy: 0.6805 - val_loss: 1.0853 - val_accuracy: 0.0000e+00\n",
      "Epoch 3/100\n",
      "55/55 [==============================] - 1s 11ms/step - loss: 0.6241 - accuracy: 0.6805 - val_loss: 1.0640 - val_accuracy: 0.0318\n",
      "Epoch 4/100\n",
      "55/55 [==============================] - 1s 10ms/step - loss: 0.5998 - accuracy: 0.6919 - val_loss: 1.0189 - val_accuracy: 0.1182\n",
      "Epoch 5/100\n",
      "55/55 [==============================] - 0s 9ms/step - loss: 0.5744 - accuracy: 0.7169 - val_loss: 0.9795 - val_accuracy: 0.2295\n",
      "Epoch 6/100\n",
      "55/55 [==============================] - 0s 9ms/step - loss: 0.5364 - accuracy: 0.7590 - val_loss: 0.8963 - val_accuracy: 0.3364\n",
      "Epoch 7/100\n",
      "55/55 [==============================] - 1s 16ms/step - loss: 0.4961 - accuracy: 0.7919 - val_loss: 0.6678 - val_accuracy: 0.5818\n",
      "Epoch 8/100\n",
      "55/55 [==============================] - 1s 20ms/step - loss: 0.4551 - accuracy: 0.8323 - val_loss: 0.5339 - val_accuracy: 0.6909\n",
      "Epoch 9/100\n",
      "55/55 [==============================] - 1s 11ms/step - loss: 0.4218 - accuracy: 0.8556 - val_loss: 0.5202 - val_accuracy: 0.7182\n",
      "Epoch 10/100\n",
      "55/55 [==============================] - 1s 20ms/step - loss: 0.3959 - accuracy: 0.8744 - val_loss: 0.4506 - val_accuracy: 0.7750\n",
      "Epoch 11/100\n",
      "55/55 [==============================] - 1s 15ms/step - loss: 0.3634 - accuracy: 0.8857 - val_loss: 0.3823 - val_accuracy: 0.8045\n",
      "Epoch 12/100\n",
      "55/55 [==============================] - 1s 18ms/step - loss: 0.3480 - accuracy: 0.8965 - val_loss: 0.3653 - val_accuracy: 0.8136\n",
      "Epoch 13/100\n",
      "55/55 [==============================] - 1s 27ms/step - loss: 0.3256 - accuracy: 0.9062 - val_loss: 0.3249 - val_accuracy: 0.8432\n",
      "Epoch 14/100\n",
      "55/55 [==============================] - 3s 50ms/step - loss: 0.3088 - accuracy: 0.9113 - val_loss: 0.3584 - val_accuracy: 0.8136\n",
      "Epoch 15/100\n",
      "55/55 [==============================] - 1s 19ms/step - loss: 0.2921 - accuracy: 0.9204 - val_loss: 0.3216 - val_accuracy: 0.8455\n",
      "Epoch 16/100\n",
      "55/55 [==============================] - 1s 15ms/step - loss: 0.2807 - accuracy: 0.9261 - val_loss: 0.2862 - val_accuracy: 0.8591\n",
      "Epoch 17/100\n",
      "55/55 [==============================] - 1s 20ms/step - loss: 0.2673 - accuracy: 0.9301 - val_loss: 0.2343 - val_accuracy: 0.9114\n",
      "Epoch 18/100\n",
      "55/55 [==============================] - 1s 17ms/step - loss: 0.2592 - accuracy: 0.9386 - val_loss: 0.2836 - val_accuracy: 0.8659\n",
      "Epoch 19/100\n",
      "55/55 [==============================] - 1s 17ms/step - loss: 0.2494 - accuracy: 0.9341 - val_loss: 0.2535 - val_accuracy: 0.8932\n",
      "Epoch 20/100\n",
      "55/55 [==============================] - 2s 29ms/step - loss: 0.2391 - accuracy: 0.9494 - val_loss: 0.2677 - val_accuracy: 0.8795\n",
      "Epoch 21/100\n",
      "55/55 [==============================] - 2s 29ms/step - loss: 0.2324 - accuracy: 0.9443 - val_loss: 0.2252 - val_accuracy: 0.9045\n",
      "Epoch 22/100\n",
      "55/55 [==============================] - 1s 18ms/step - loss: 0.2255 - accuracy: 0.9511 - val_loss: 0.2436 - val_accuracy: 0.8909\n",
      "Epoch 23/100\n",
      "55/55 [==============================] - 1s 14ms/step - loss: 0.2207 - accuracy: 0.9483 - val_loss: 0.2399 - val_accuracy: 0.8932\n",
      "Epoch 24/100\n",
      "55/55 [==============================] - 1s 21ms/step - loss: 0.2134 - accuracy: 0.9517 - val_loss: 0.2207 - val_accuracy: 0.9023\n",
      "Epoch 25/100\n",
      "55/55 [==============================] - 1s 13ms/step - loss: 0.2081 - accuracy: 0.9562 - val_loss: 0.2300 - val_accuracy: 0.8977\n",
      "Epoch 26/100\n",
      "55/55 [==============================] - 1s 10ms/step - loss: 0.2071 - accuracy: 0.9500 - val_loss: 0.1697 - val_accuracy: 0.9523\n",
      "Epoch 27/100\n",
      "55/55 [==============================] - 0s 9ms/step - loss: 0.2000 - accuracy: 0.9562 - val_loss: 0.2180 - val_accuracy: 0.9045\n",
      "Epoch 28/100\n",
      "55/55 [==============================] - 1s 11ms/step - loss: 0.1924 - accuracy: 0.9596 - val_loss: 0.1811 - val_accuracy: 0.9477\n",
      "Epoch 29/100\n",
      "55/55 [==============================] - 1s 14ms/step - loss: 0.1918 - accuracy: 0.9591 - val_loss: 0.2327 - val_accuracy: 0.8932\n",
      "Epoch 30/100\n",
      "55/55 [==============================] - 1s 13ms/step - loss: 0.1859 - accuracy: 0.9591 - val_loss: 0.1824 - val_accuracy: 0.9477\n",
      "Epoch 31/100\n",
      "55/55 [==============================] - 1s 16ms/step - loss: 0.1822 - accuracy: 0.9642 - val_loss: 0.1785 - val_accuracy: 0.9477\n",
      "Epoch 32/100\n",
      "55/55 [==============================] - 1s 18ms/step - loss: 0.1759 - accuracy: 0.9659 - val_loss: 0.1432 - val_accuracy: 0.9614\n",
      "Epoch 33/100\n",
      "55/55 [==============================] - 1s 22ms/step - loss: 0.1737 - accuracy: 0.9642 - val_loss: 0.1835 - val_accuracy: 0.9318\n",
      "Epoch 34/100\n",
      "55/55 [==============================] - 1s 10ms/step - loss: 0.1695 - accuracy: 0.9648 - val_loss: 0.1964 - val_accuracy: 0.9114\n",
      "Epoch 35/100\n",
      "55/55 [==============================] - 0s 9ms/step - loss: 0.1711 - accuracy: 0.9670 - val_loss: 0.1559 - val_accuracy: 0.9545\n",
      "Epoch 36/100\n",
      "55/55 [==============================] - 1s 9ms/step - loss: 0.1629 - accuracy: 0.9676 - val_loss: 0.1882 - val_accuracy: 0.9159\n",
      "Epoch 37/100\n",
      "55/55 [==============================] - 1s 10ms/step - loss: 0.1585 - accuracy: 0.9704 - val_loss: 0.1462 - val_accuracy: 0.9545\n",
      "Epoch 38/100\n",
      "55/55 [==============================] - 1s 12ms/step - loss: 0.1608 - accuracy: 0.9659 - val_loss: 0.1388 - val_accuracy: 0.9545\n",
      "Epoch 39/100\n",
      "55/55 [==============================] - 1s 14ms/step - loss: 0.1547 - accuracy: 0.9716 - val_loss: 0.1357 - val_accuracy: 0.9545\n",
      "Epoch 40/100\n",
      "55/55 [==============================] - 2s 31ms/step - loss: 0.1517 - accuracy: 0.9687 - val_loss: 0.1506 - val_accuracy: 0.9545\n",
      "Epoch 41/100\n",
      "55/55 [==============================] - 1s 13ms/step - loss: 0.1521 - accuracy: 0.9670 - val_loss: 0.1317 - val_accuracy: 0.9591\n",
      "Epoch 42/100\n",
      "55/55 [==============================] - 1s 11ms/step - loss: 0.1468 - accuracy: 0.9693 - val_loss: 0.1312 - val_accuracy: 0.9545\n",
      "Epoch 43/100\n",
      "55/55 [==============================] - 1s 12ms/step - loss: 0.1441 - accuracy: 0.9727 - val_loss: 0.1528 - val_accuracy: 0.9500\n",
      "Epoch 44/100\n",
      "55/55 [==============================] - 1s 12ms/step - loss: 0.1442 - accuracy: 0.9716 - val_loss: 0.1376 - val_accuracy: 0.9545\n",
      "Epoch 45/100\n",
      "55/55 [==============================] - 1s 13ms/step - loss: 0.1406 - accuracy: 0.9733 - val_loss: 0.1243 - val_accuracy: 0.9659\n",
      "Epoch 46/100\n",
      "55/55 [==============================] - 1s 12ms/step - loss: 0.1393 - accuracy: 0.9716 - val_loss: 0.1367 - val_accuracy: 0.9568\n",
      "Epoch 47/100\n",
      "55/55 [==============================] - 1s 14ms/step - loss: 0.1361 - accuracy: 0.9756 - val_loss: 0.1221 - val_accuracy: 0.9659\n",
      "Epoch 48/100\n",
      "55/55 [==============================] - 1s 13ms/step - loss: 0.1315 - accuracy: 0.9790 - val_loss: 0.1226 - val_accuracy: 0.9659\n",
      "Epoch 49/100\n",
      "55/55 [==============================] - 1s 13ms/step - loss: 0.1310 - accuracy: 0.9750 - val_loss: 0.1221 - val_accuracy: 0.9659\n",
      "Epoch 50/100\n",
      "55/55 [==============================] - 1s 18ms/step - loss: 0.1330 - accuracy: 0.9738 - val_loss: 0.1110 - val_accuracy: 0.9682\n",
      "Epoch 51/100\n",
      "55/55 [==============================] - 1s 14ms/step - loss: 0.1289 - accuracy: 0.9744 - val_loss: 0.1226 - val_accuracy: 0.9636\n",
      "Epoch 52/100\n",
      "55/55 [==============================] - 1s 17ms/step - loss: 0.1256 - accuracy: 0.9773 - val_loss: 0.1276 - val_accuracy: 0.9568\n",
      "Epoch 53/100\n",
      "55/55 [==============================] - 1s 14ms/step - loss: 0.1228 - accuracy: 0.9801 - val_loss: 0.1480 - val_accuracy: 0.9523\n",
      "Epoch 54/100\n",
      "55/55 [==============================] - 1s 13ms/step - loss: 0.1280 - accuracy: 0.9744 - val_loss: 0.1605 - val_accuracy: 0.9386\n",
      "Epoch 55/100\n",
      "55/55 [==============================] - 1s 16ms/step - loss: 0.1202 - accuracy: 0.9778 - val_loss: 0.1108 - val_accuracy: 0.9682\n",
      "Epoch 56/100\n",
      "55/55 [==============================] - 1s 12ms/step - loss: 0.1193 - accuracy: 0.9761 - val_loss: 0.1333 - val_accuracy: 0.9568\n",
      "Epoch 57/100\n",
      "55/55 [==============================] - 1s 21ms/step - loss: 0.1157 - accuracy: 0.9795 - val_loss: 0.1331 - val_accuracy: 0.9545\n",
      "Epoch 58/100\n",
      "55/55 [==============================] - 1s 17ms/step - loss: 0.1162 - accuracy: 0.9778 - val_loss: 0.1347 - val_accuracy: 0.9545\n",
      "Epoch 59/100\n",
      "55/55 [==============================] - 1s 12ms/step - loss: 0.1148 - accuracy: 0.9784 - val_loss: 0.1160 - val_accuracy: 0.9636\n",
      "Epoch 60/100\n",
      "55/55 [==============================] - 1s 17ms/step - loss: 0.1128 - accuracy: 0.9807 - val_loss: 0.1241 - val_accuracy: 0.9568\n",
      "Epoch 61/100\n",
      "55/55 [==============================] - 1s 13ms/step - loss: 0.1110 - accuracy: 0.9795 - val_loss: 0.1163 - val_accuracy: 0.9614\n",
      "Epoch 62/100\n",
      "55/55 [==============================] - 1s 11ms/step - loss: 0.1092 - accuracy: 0.9801 - val_loss: 0.1133 - val_accuracy: 0.9659\n",
      "Epoch 63/100\n",
      "55/55 [==============================] - 1s 12ms/step - loss: 0.1084 - accuracy: 0.9812 - val_loss: 0.1030 - val_accuracy: 0.9682\n",
      "Epoch 64/100\n",
      "55/55 [==============================] - 1s 12ms/step - loss: 0.1085 - accuracy: 0.9824 - val_loss: 0.1237 - val_accuracy: 0.9591\n",
      "Epoch 65/100\n",
      "55/55 [==============================] - 1s 20ms/step - loss: 0.1078 - accuracy: 0.9773 - val_loss: 0.1112 - val_accuracy: 0.9659\n",
      "Epoch 66/100\n",
      "55/55 [==============================] - 1s 10ms/step - loss: 0.1059 - accuracy: 0.9852 - val_loss: 0.1244 - val_accuracy: 0.9545\n",
      "Epoch 67/100\n",
      "55/55 [==============================] - 1s 10ms/step - loss: 0.1028 - accuracy: 0.9841 - val_loss: 0.1393 - val_accuracy: 0.9500\n",
      "Epoch 68/100\n",
      "55/55 [==============================] - 1s 10ms/step - loss: 0.1014 - accuracy: 0.9841 - val_loss: 0.1133 - val_accuracy: 0.9614\n",
      "Epoch 69/100\n",
      "55/55 [==============================] - 1s 9ms/step - loss: 0.1038 - accuracy: 0.9807 - val_loss: 0.0752 - val_accuracy: 0.9886\n",
      "Epoch 70/100\n",
      "55/55 [==============================] - 1s 10ms/step - loss: 0.1056 - accuracy: 0.9812 - val_loss: 0.0944 - val_accuracy: 0.9727\n",
      "Epoch 71/100\n",
      "55/55 [==============================] - 1s 10ms/step - loss: 0.0988 - accuracy: 0.9818 - val_loss: 0.1047 - val_accuracy: 0.9682\n",
      "Epoch 72/100\n",
      "55/55 [==============================] - 1s 10ms/step - loss: 0.0965 - accuracy: 0.9858 - val_loss: 0.1454 - val_accuracy: 0.9477\n",
      "Epoch 73/100\n",
      "55/55 [==============================] - 1s 18ms/step - loss: 0.0975 - accuracy: 0.9869 - val_loss: 0.1090 - val_accuracy: 0.9659\n",
      "Epoch 74/100\n",
      "55/55 [==============================] - 1s 10ms/step - loss: 0.0967 - accuracy: 0.9824 - val_loss: 0.1015 - val_accuracy: 0.9682\n",
      "Epoch 75/100\n",
      "55/55 [==============================] - 1s 10ms/step - loss: 0.0958 - accuracy: 0.9858 - val_loss: 0.1107 - val_accuracy: 0.9614\n",
      "Epoch 76/100\n",
      "55/55 [==============================] - 1s 10ms/step - loss: 0.0956 - accuracy: 0.9818 - val_loss: 0.1000 - val_accuracy: 0.9682\n",
      "Epoch 77/100\n",
      "55/55 [==============================] - 1s 11ms/step - loss: 0.0935 - accuracy: 0.9818 - val_loss: 0.1020 - val_accuracy: 0.9682\n",
      "Epoch 78/100\n",
      "55/55 [==============================] - 1s 11ms/step - loss: 0.0910 - accuracy: 0.9824 - val_loss: 0.1102 - val_accuracy: 0.9614\n",
      "Epoch 79/100\n",
      "55/55 [==============================] - 1s 12ms/step - loss: 0.0924 - accuracy: 0.9852 - val_loss: 0.0908 - val_accuracy: 0.9727\n",
      "Epoch 80/100\n",
      "55/55 [==============================] - 1s 10ms/step - loss: 0.0915 - accuracy: 0.9829 - val_loss: 0.0895 - val_accuracy: 0.9727\n",
      "Epoch 81/100\n",
      "55/55 [==============================] - 1s 21ms/step - loss: 0.0887 - accuracy: 0.9881 - val_loss: 0.1005 - val_accuracy: 0.9682\n",
      "Epoch 82/100\n",
      "55/55 [==============================] - 1s 10ms/step - loss: 0.0911 - accuracy: 0.9829 - val_loss: 0.0935 - val_accuracy: 0.9727\n",
      "Epoch 83/100\n",
      "55/55 [==============================] - 1s 11ms/step - loss: 0.0873 - accuracy: 0.9852 - val_loss: 0.0907 - val_accuracy: 0.9727\n",
      "Epoch 84/100\n",
      "55/55 [==============================] - 1s 12ms/step - loss: 0.0892 - accuracy: 0.9829 - val_loss: 0.1334 - val_accuracy: 0.9500\n",
      "Epoch 85/100\n",
      "55/55 [==============================] - 1s 10ms/step - loss: 0.0857 - accuracy: 0.9847 - val_loss: 0.1148 - val_accuracy: 0.9591\n",
      "Epoch 86/100\n",
      "55/55 [==============================] - 1s 10ms/step - loss: 0.0822 - accuracy: 0.9898 - val_loss: 0.1001 - val_accuracy: 0.9682\n",
      "Epoch 87/100\n",
      "55/55 [==============================] - 1s 11ms/step - loss: 0.0834 - accuracy: 0.9869 - val_loss: 0.0917 - val_accuracy: 0.9727\n",
      "Epoch 88/100\n",
      "55/55 [==============================] - 1s 19ms/step - loss: 0.0811 - accuracy: 0.9886 - val_loss: 0.0716 - val_accuracy: 0.9795\n",
      "Epoch 89/100\n",
      "55/55 [==============================] - 1s 11ms/step - loss: 0.0799 - accuracy: 0.9869 - val_loss: 0.1004 - val_accuracy: 0.9682\n",
      "Epoch 90/100\n",
      "55/55 [==============================] - 1s 10ms/step - loss: 0.0838 - accuracy: 0.9847 - val_loss: 0.1024 - val_accuracy: 0.9682\n",
      "Epoch 91/100\n",
      "55/55 [==============================] - 0s 9ms/step - loss: 0.0816 - accuracy: 0.9886 - val_loss: 0.0978 - val_accuracy: 0.9682\n",
      "Epoch 92/100\n",
      "55/55 [==============================] - 1s 11ms/step - loss: 0.0790 - accuracy: 0.9858 - val_loss: 0.0934 - val_accuracy: 0.9682\n",
      "Epoch 93/100\n",
      "55/55 [==============================] - 1s 11ms/step - loss: 0.0777 - accuracy: 0.9864 - val_loss: 0.1052 - val_accuracy: 0.9614\n",
      "Epoch 94/100\n",
      "55/55 [==============================] - 1s 12ms/step - loss: 0.0763 - accuracy: 0.9858 - val_loss: 0.0829 - val_accuracy: 0.9727\n",
      "Epoch 95/100\n",
      "55/55 [==============================] - 1s 19ms/step - loss: 0.0749 - accuracy: 0.9892 - val_loss: 0.0931 - val_accuracy: 0.9705\n",
      "Epoch 96/100\n",
      "55/55 [==============================] - 1s 10ms/step - loss: 0.0754 - accuracy: 0.9869 - val_loss: 0.0757 - val_accuracy: 0.9727\n",
      "Epoch 97/100\n",
      "55/55 [==============================] - 1s 14ms/step - loss: 0.0752 - accuracy: 0.9881 - val_loss: 0.0809 - val_accuracy: 0.9727\n",
      "Epoch 98/100\n",
      "55/55 [==============================] - 1s 10ms/step - loss: 0.0758 - accuracy: 0.9892 - val_loss: 0.0741 - val_accuracy: 0.9750\n",
      "Epoch 99/100\n",
      "55/55 [==============================] - 1s 11ms/step - loss: 0.0735 - accuracy: 0.9869 - val_loss: 0.0806 - val_accuracy: 0.9727\n",
      "Epoch 100/100\n",
      "55/55 [==============================] - 1s 10ms/step - loss: 0.0727 - accuracy: 0.9864 - val_loss: 0.0964 - val_accuracy: 0.9682\n"
     ]
    }
   ],
   "source": [
    "trainingLabelsArr = np.array(train_labels)\n",
    "testingLabelsArr = np.array(test_labels)\n",
    "\n",
    "num_epochs = 100\n",
    "history = model.fit(trainPadded, trainingLabelsArr, epochs=num_epochs, validation_data=(testPadded, testingLabelsArr))"
   ]
  },
  {
   "cell_type": "code",
   "execution_count": 23,
   "metadata": {},
   "outputs": [
    {
     "data": {
      "image/png": "[encoded data removed]",
      "text/plain": [
       "<Figure size 1000x500 with 2 Axes>"
      ]
     },
     "metadata": {},
     "output_type": "display_data"
    }
   ],
   "source": [
    "import matplotlib.pyplot as plt\n",
    "\n",
    "acc = history.history['accuracy']\n",
    "val_acc = history.history['val_accuracy']\n",
    "loss = history.history['loss']\n",
    "val_loss = history.history['val_loss']\n",
    "\n",
    "epochs = range(1, len(acc) + 1)\n",
    "\n",
    "plt.figure(figsize=(10, 5))\n",
    "\n",
    "plt.subplot(1, 2, 1)\n",
    "plt.plot(epochs, acc, 'r', label='Training Accuracy')\n",
    "plt.plot(epochs, val_acc, 'b', label='Validation Accuracy')\n",
    "plt.title('Training and Validation Accuracy')\n",
    "plt.xlabel('Epochs')\n",
    "plt.ylabel('Accuracy')\n",
    "plt.legend()\n",
    "\n",
    "plt.subplot(1, 2, 2)\n",
    "plt.plot(epochs, loss, 'r', label='Training Loss')\n",
    "plt.plot(epochs, val_loss, 'b', label='Validation Loss')\n",
    "plt.title('Training and Validation Loss')\n",
    "plt.xlabel('Epochs')\n",
    "plt.ylabel('Loss')\n",
    "plt.legend()\n",
    "\n",
    "plt.tight_layout()\n",
    "plt.show()"
   ]
  },
  {
   "cell_type": "code",
   "execution_count": 21,
   "metadata": {},
   "outputs": [],
   "source": [
    "def preprocessText(text):\n",
    "    text = text.lower()\n",
    "    text = re.sub(r\"\\d+\", \"\", text)\n",
    "    text = text.translate(str.maketrans(\"\", \"\", string.punctuation))\n",
    "    text = text.strip()\n",
    "    text = re.sub('\\s+', ' ', text)\n",
    "    text = re.sub(r'[\\u2070-\\u209F\\u00B2-\\u00B3\\u00B9-\\u00BF\\u02B0-\\u036F\\u1AB0-\\u1AFF\\u2090-\\u2094]+', '', text)\n",
    "    text = emoji.demojize(text)\n",
    "    text = text.translate(str.maketrans(string.punctuation, ' ' * len(string.punctuation)))\n",
    "    text = text.strip()\n",
    "    text = re.sub('\\s+', ' ', text)\n",
    "    text = re.sub(r'[^\\u0000-\\u007F\\uD800-\\uDBFF\\uDC00-\\uDFFF]+', '', text)\n",
    "    return text"
   ]
  },
  {
   "cell_type": "code",
   "execution_count": 22,
   "metadata": {},
   "outputs": [
    {
     "name": "stdout",
     "output_type": "stream",
     "text": [
      "1/1 [==============================] - 0s 374ms/step\n",
      "[[0.9278673]]\n"
     ]
    },
    {
     "data": {
      "text/plain": [
       "['Positive Reviews']"
      ]
     },
     "execution_count": 22,
     "metadata": {},
     "output_type": "execute_result"
    }
   ],
   "source": [
    "# Test predicting\n",
    "input_text = \"bagus banget pelayanannya, mana 24 jam lagi 😘\" \n",
    "\n",
    "preprocessedInputText = preprocessText(input_text)\n",
    "\n",
    "inputSequence = pad_sequences(tokenizer.texts_to_sequences([preprocessedInputText]), maxlen=max_length)\n",
    "predictions = model.predict(inputSequence)\n",
    "print(predictions)\n",
    "\n",
    "predictedSentiments = [\"Positive Reviews\" if pred > 0.5 else \"Negative Reviews\" for pred in predictions]\n",
    "predictedSentiments"
   ]
  },
  {
   "cell_type": "code",
   "execution_count": null,
   "metadata": {},
   "outputs": [],
   "source": []
  }
 ],
 "metadata": {
  "kernelspec": {
   "display_name": "Python 3 (ipykernel)",
   "language": "python",
   "name": "python3"
  },
  "language_info": {
   "codemirror_mode": {
    "name": "ipython",
    "version": 3
   },
   "file_extension": ".py",
   "mimetype": "text/x-python",
   "name": "python",
   "nbconvert_exporter": "python",
   "pygments_lexer": "ipython3",
   "version": "3.8.5"
  }
 },
 "nbformat": 4,
 "nbformat_minor": 2
}
