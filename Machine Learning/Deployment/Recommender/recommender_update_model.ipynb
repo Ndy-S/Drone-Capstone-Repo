{
 "cells": [
  {
   "cell_type": "code",
   "execution_count": 28,
   "metadata": {},
   "outputs": [],
   "source": [
    "import numpy as np\n",
    "import pandas as pd\n",
    "import pickle\n",
    "\n",
    "import tensorflow as tf\n",
    "from tensorflow import keras\n",
    "from tensorflow.keras.preprocessing.sequence import pad_sequences\n",
    "\n",
    "from sklearn.model_selection import train_test_split \n",
    "from sklearn.metrics.pairwise import pairwise_distances\n",
    "\n",
    "import firebase_admin\n",
    "from firebase_admin import credentials\n",
    "from firebase_admin import firestore"
   ]
  },
  {
   "cell_type": "code",
   "execution_count": 22,
   "metadata": {},
   "outputs": [
    {
     "name": "stdout",
     "output_type": "stream",
     "text": [
      "An error occurred: The default Firebase app already exists. This means you called initialize_app() more than once without providing an app name as the second argument. In most cases you only need to call initialize_app() once. But if you do want to initialize multiple apps, pass a second argument to initialize_app() to give each app a unique name.\n"
     ]
    }
   ],
   "source": [
    "# Load credential_key\n",
    "cred = credentials.Certificate('./drone-capstone-386903-d2b13d68a9d6.json')\n",
    "\n",
    "try:\n",
    "    firebase_admin.initialize_app(cred)\n",
    "except Exception as e:\n",
    "    print(f\"An error occurred: {str(e)}\")\n",
    "    \n",
    "db = firestore.client()"
   ]
  },
  {
   "cell_type": "code",
   "execution_count": 29,
   "metadata": {},
   "outputs": [],
   "source": [
    "# Get user data\n",
    "users_ref = db.collection('reviews')\n",
    "docs = users_ref.get()\n",
    "\n",
    "data_list = []\n",
    "\n",
    "for doc in docs:\n",
    "    data = doc.to_dict()\n",
    "    data_list.append(data)\n",
    "\n",
    "data = pd.DataFrame(data_list)"
   ]
  },
  {
   "cell_type": "code",
   "execution_count": 24,
   "metadata": {},
   "outputs": [],
   "source": [
    "# Create pivot table function (row(user), column(laundry))\n",
    "def createPivot(data, fillVal = None):\n",
    "  pivot_table = data.pivot_table(index='review_author_id', columns='laundry_id', values='review_rating')\n",
    "  return pivot_table.fillna(fillVal) if fillVal is not None else pivot_table"
   ]
  },
  {
   "cell_type": "code",
   "execution_count": 30,
   "metadata": {},
   "outputs": [],
   "source": [
    "random_state = 50\n",
    "test_size = 0.30 \n",
    "\n",
    "train, test = train_test_split(data, test_size=test_size, random_state=random_state)\n",
    "test = test[test['review_author_id'].isin(train['review_author_id'])]\n",
    "\n",
    "train_pivot = createPivot(train, 0)\n",
    "test_pivot = createPivot(test, 0)\n",
    "\n",
    "train_binary = train.copy()\n",
    "train_binary['review_rating'] = train_binary['review_rating'].apply(lambda x: 0 if x >= 1 else 1)\n",
    "train_binary = createPivot(train_binary, 1)\n",
    "\n",
    "test_binary = test.copy()\n",
    "test_binary['review_rating'] = test_binary['review_rating'].apply(lambda x: 1 if x >= 1 else 0)\n",
    "test_binary = createPivot(test_binary, 0)"
   ]
  },
  {
   "cell_type": "code",
   "execution_count": 32,
   "metadata": {},
   "outputs": [],
   "source": [
    "mean = np.nanmean(createPivot(train), axis=1)\n",
    "\n",
    "train_subtracted_by_mean = (createPivot(train).T - mean).T\n",
    "train_subtracted_by_mean.fillna(0, inplace=True)\n",
    "\n",
    "correlation = 1 - pairwise_distances(train_subtracted_by_mean, metric='cosine')\n",
    "correlation[np.isnan(correlation)] = 0\n",
    "\n",
    "correlation_df = pd.DataFrame(correlation)\n",
    "correlation_df['review_author_id'] = train_subtracted_by_mean.index\n",
    "correlation_df.set_index('review_author_id',inplace=True)\n",
    "correlation_df.columns = train_subtracted_by_mean.index.tolist()\n",
    "\n",
    "predicted_rating = np.dot(correlation, train_pivot)\n",
    "final_rating = np.multiply(predicted_rating, train_binary)"
   ]
  },
  {
   "cell_type": "code",
   "execution_count": 33,
   "metadata": {},
   "outputs": [],
   "source": [
    "# Adjust with Cloud Storage path to store model\n",
    "with open('./recomender_models/final_rating.pickle', 'wb') as f:\n",
    "    pickle.dump(final_rating, f)"
   ]
  }
 ],
 "metadata": {
  "kernelspec": {
   "display_name": "Python 3",
   "language": "python",
   "name": "python3"
  },
  "language_info": {
   "codemirror_mode": {
    "name": "ipython",
    "version": 3
   },
   "file_extension": ".py",
   "mimetype": "text/x-python",
   "name": "python",
   "nbconvert_exporter": "python",
   "pygments_lexer": "ipython3",
   "version": "3.11.3"
  },
  "orig_nbformat": 4
 },
 "nbformat": 4,
 "nbformat_minor": 2
}
