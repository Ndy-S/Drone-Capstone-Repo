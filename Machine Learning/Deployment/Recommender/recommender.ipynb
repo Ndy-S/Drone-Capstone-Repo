{
 "cells": [
  {
   "cell_type": "code",
   "execution_count": 1,
   "metadata": {},
   "outputs": [],
   "source": [
    "import pandas as pd\n",
    "import pickle\n",
    "\n",
    "import firebase_admin\n",
    "from firebase_admin import credentials\n",
    "from firebase_admin import firestore"
   ]
  },
  {
   "cell_type": "code",
   "execution_count": 2,
   "metadata": {},
   "outputs": [],
   "source": [
    "cred = credentials.Certificate('./drone-capstone-386903-d2b13d68a9d6.json')\n",
    "\n",
    "try:\n",
    "    firebase_admin.initialize_app(cred)\n",
    "except Exception as e:\n",
    "    print(f\"An error occurred: {str(e)}\")\n",
    "    \n",
    "db = firestore.client()"
   ]
  },
  {
   "cell_type": "code",
   "execution_count": 3,
   "metadata": {},
   "outputs": [],
   "source": [
    "users_ref = db.collection('reviews')\n",
    "docs = users_ref.get()\n",
    "\n",
    "data_list = []\n",
    "\n",
    "for doc in docs:\n",
    "    data = doc.to_dict()\n",
    "    data_list.append(data)\n",
    "\n",
    "data = pd.DataFrame(data_list)\n",
    "\n",
    "with open('./recomender_models/final_rating.pickle', 'rb') as f:\n",
    "    final_rating = pickle.load(f)"
   ]
  },
  {
   "cell_type": "code",
   "execution_count": 4,
   "metadata": {},
   "outputs": [],
   "source": [
    "# Get recommendeation by calculated predicted_rating & sentiment_score\n",
    "def get_recommendation(final_rating, user_id, data, no_rec):\n",
    "    def getReviewData(x):\n",
    "        product_sentiments = data[data['laundry_id'] == x]['sentiment_score']\n",
    "        sentiment_score = product_sentiments.mean()\n",
    "        return sentiment_score\n",
    "\n",
    "    user_ratings = final_rating.loc[user_id]\n",
    "    recommendation = user_ratings.sort_values(ascending=False)[:no_rec]\n",
    "\n",
    "    recommendation_table = pd.DataFrame(recommendation).reset_index().rename(columns={user_id: 'predicted_ratings'})\n",
    "    recommendation_table.insert(0, 'user_id', user_id)\n",
    "\n",
    "    recommendation_table['sentiment_score'] = recommendation_table['laundry_id'].apply(getReviewData)\n",
    "    recommendation_table['product_ranking_score'] = recommendation_table['predicted_ratings'] + recommendation_table['sentiment_score']\n",
    "    sorted_recommendations = recommendation_table.sort_values(by='product_ranking_score', ascending=False).head(no_rec)\n",
    "    \n",
    "    return sorted_recommendations['laundry_id']"
   ]
  },
  {
   "cell_type": "code",
   "execution_count": 5,
   "metadata": {},
   "outputs": [
    {
     "name": "stdout",
     "output_type": "stream",
     "text": [
      "6     fWGrFTXnJ2DdAos7RofE\n",
      "10    ggPaqhkzitso7XgHh8Zz\n",
      "9     eoWGZL31kIeg10fmu6aC\n",
      "14    eFIzcKy7GED8P7n6b4Gc\n",
      "7     fVuqrsv1KNUMf7NZJYv2\n",
      "4     fmWCFFqZcQ4KS3QFL4s9\n",
      "11    eXLp4CXQCOb7sY32QfXD\n",
      "2     gC0wFj8B9SnAVztqs1dH\n",
      "3     gBTPcfkyJB3253EfokY5\n",
      "13    eHf0KdMjSZGFBfxpsvBQ\n",
      "8     fRQGTXbiSqMqFbGjrGe6\n",
      "0     0KM8mgEdRPBi8zv7Mr6w\n",
      "5     ff6tKtqJYXwsQboD8HYO\n",
      "12    eNS8oL4kBqTUbnBQOOGb\n",
      "1     fGn2GZjG1lmB0WOZAsu2\n",
      "Name: laundry_id, dtype: object\n"
     ]
    }
   ],
   "source": [
    "# Adjust with send request user_id data\n",
    "user_id = \"045UoknM0cMhYuk8ORyv\"\n",
    "\n",
    "recommendation_table = get_recommendation(final_rating, user_id, data, no_rec=15)\n",
    "print(recommendation_table)"
   ]
  }
 ],
 "metadata": {
  "kernelspec": {
   "display_name": "Python 3",
   "language": "python",
   "name": "python3"
  },
  "language_info": {
   "codemirror_mode": {
    "name": "ipython",
    "version": 3
   },
   "file_extension": ".py",
   "mimetype": "text/x-python",
   "name": "python",
   "nbconvert_exporter": "python",
   "pygments_lexer": "ipython3",
   "version": "3.11.3"
  },
  "orig_nbformat": 4
 },
 "nbformat": 4,
 "nbformat_minor": 2
}
