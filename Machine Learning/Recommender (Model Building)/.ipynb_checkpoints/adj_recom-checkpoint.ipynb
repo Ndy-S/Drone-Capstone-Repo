{
 "cells": [
  {
   "cell_type": "code",
   "execution_count": 1,
   "metadata": {
    "id": "o2XKUARf5hT9"
   },
   "outputs": [
    {
     "ename": "ModuleNotFoundError",
     "evalue": "No module named 'emoji'",
     "output_type": "error",
     "traceback": [
      "\u001b[1;31m---------------------------------------------------------------------------\u001b[0m",
      "\u001b[1;31mModuleNotFoundError\u001b[0m                       Traceback (most recent call last)",
      "Cell \u001b[1;32mIn[1], line 6\u001b[0m\n\u001b[0;32m      4\u001b[0m \u001b[38;5;28;01mimport\u001b[39;00m \u001b[38;5;21;01mre\u001b[39;00m\n\u001b[0;32m      5\u001b[0m \u001b[38;5;28;01mimport\u001b[39;00m \u001b[38;5;21;01mstring\u001b[39;00m\n\u001b[1;32m----> 6\u001b[0m \u001b[38;5;28;01mimport\u001b[39;00m \u001b[38;5;21;01memoji\u001b[39;00m\n\u001b[0;32m      8\u001b[0m \u001b[38;5;28;01mimport\u001b[39;00m \u001b[38;5;21;01mtensorflow\u001b[39;00m \u001b[38;5;28;01mas\u001b[39;00m \u001b[38;5;21;01mtf\u001b[39;00m\n\u001b[0;32m      9\u001b[0m \u001b[38;5;28;01mfrom\u001b[39;00m \u001b[38;5;21;01mtensorflow\u001b[39;00m \u001b[38;5;28;01mimport\u001b[39;00m keras\n",
      "\u001b[1;31mModuleNotFoundError\u001b[0m: No module named 'emoji'"
     ]
    }
   ],
   "source": [
    "import numpy as np\n",
    "import pandas as pd\n",
    "import pickle\n",
    "import re\n",
    "import string\n",
    "import emoji\n",
    "\n",
    "import tensorflow as tf\n",
    "from tensorflow import keras\n",
    "from tensorflow.keras.preprocessing.sequence import pad_sequences\n",
    "\n",
    "from sklearn.model_selection import train_test_split \n",
    "from sklearn.metrics import mean_squared_error, mean_absolute_error, precision_score, recall_score, f1_score\n",
    "from sklearn.metrics.pairwise import pairwise_distances\n",
    "from sklearn.preprocessing import MinMaxScaler"
   ]
  },
  {
   "cell_type": "code",
   "execution_count": null,
   "metadata": {
    "colab": {
     "base_uri": "https://localhost:8080/",
     "height": 677
    },
    "id": "Yatf6WDC5tRd",
    "outputId": "4a2e327c-727d-4eee-83a8-83d053cd2ac8"
   },
   "outputs": [],
   "source": [
    "data_path = './assets/data_dummy.xlsx'\n",
    "data = pd.read_excel(data_path)\n",
    "\n",
    "display(data.sample(n=20, random_state=5))"
   ]
  },
  {
   "cell_type": "code",
   "execution_count": null,
   "metadata": {
    "id": "Yn2L-wX359Yh"
   },
   "outputs": [],
   "source": [
    "# Function to create pivot table\n",
    "def createPivot(data, fillVal = None):\n",
    "  pivot_table = data.pivot_table(index='user_id', columns='laundry_id', values='rating')\n",
    "  return pivot_table.fillna(fillVal) if fillVal is not None else pivot_table"
   ]
  },
  {
   "cell_type": "code",
   "execution_count": null,
   "metadata": {
    "id": "V4Uc7J8H8dFS"
   },
   "outputs": [],
   "source": [
    "random_state = 10\n",
    "test_size = 0.30 \n",
    "\n",
    "# Split data into train and test sets\n",
    "train, test = train_test_split(data, test_size=test_size, random_state=random_state)\n",
    "test = test[test['user_id'].isin(train['user_id'])]\n",
    "\n",
    "# Create a pivot table\n",
    "train_pivot = createPivot(train, 0)\n",
    "test_pivot = createPivot(test, 0)\n",
    "\n",
    "# Convert ratings to binary values\n",
    "train_binary = train.copy()\n",
    "train_binary['rating'] = train_binary['rating'].apply(lambda x: 0 if x >= 1 else 1)\n",
    "train_binary = createPivot(train_binary, 1)\n",
    "\n",
    "test_binary = test.copy()\n",
    "test_binary['rating'] = test_binary['rating'].apply(lambda x: 1 if x >= 1 else 0)\n",
    "test_binary = createPivot(test_binary, 0)"
   ]
  },
  {
   "cell_type": "code",
   "execution_count": null,
   "metadata": {
    "colab": {
     "base_uri": "https://localhost:8080/"
    },
    "id": "wIuYb9bI82vR",
    "outputId": "0308c2c4-6541-4914-d817-2459a46664f6"
   },
   "outputs": [],
   "source": [
    "# Compute mean ratings\n",
    "mean = np.nanmean(createPivot(train), axis=1)\n",
    "\n",
    "# Subtract mean from train pivot table\n",
    "train_subtracted_by_mean = (createPivot(train).T - mean).T\n",
    "train_subtracted_by_mean.fillna(0, inplace=True)\n",
    "\n",
    "# Calculate correlation between user\n",
    "correlation = 1 - pairwise_distances(train_subtracted_by_mean, metric='cosine')\n",
    "correlation[np.isnan(correlation)] = 0\n",
    "\n",
    "correlation_df = pd.DataFrame(correlation)\n",
    "correlation_df['user_id'] = train_subtracted_by_mean.index\n",
    "correlation_df.set_index('user_id',inplace=True)\n",
    "correlation_df.columns = train_subtracted_by_mean.index.tolist()\n",
    "\n",
    "correlation_df.shape, train_pivot.shape"
   ]
  },
  {
   "cell_type": "code",
   "execution_count": null,
   "metadata": {
    "colab": {
     "base_uri": "https://localhost:8080/",
     "height": 958
    },
    "id": "qcFH7-vW_o4x",
    "outputId": "87d9f7c1-4c4d-4467-8a82-17bf233c49b4"
   },
   "outputs": [],
   "source": [
    "# Compute predicted ratings\n",
    "predicted_rating = np.dot(correlation, train_pivot)\n",
    "final_rating = np.multiply(predicted_rating, train_binary)\n",
    "\n",
    "final_rating"
   ]
  },
  {
   "cell_type": "code",
   "execution_count": null,
   "metadata": {
    "colab": {
     "base_uri": "https://localhost:8080/"
    },
    "id": "E_3LCjR7p_fP",
    "outputId": "0d42dd46-1248-4cba-987c-2ce0137c4b32"
   },
   "outputs": [],
   "source": [
    "# Filter user correlation only for users in the test set\n",
    "correlation_test_df = correlation_df[correlation_df.index.isin(test.user_id)]\n",
    "correlation_test_df = correlation_test_df[list(set(test.user_id))]\n",
    "\n",
    "# Get test user predicted ratings\n",
    "test_user_predicted_ratings = np.dot(correlation_test_df, test_pivot)\n",
    "test_user_predicted_ratings *= test_binary\n",
    "test_user_predicted_ratings[test_user_predicted_ratings <= 0] = np.nan\n",
    "\n",
    "# Scale the predicted ratings between 1 and 5\n",
    "scaler = MinMaxScaler(feature_range=(1, 5))\n",
    "test_user_predicted_ratings = scaler.fit_transform(test_user_predicted_ratings)\n",
    "\n",
    "# Metric evaluation\n",
    "actual_ratings = createPivot(test)\n",
    "\n",
    "mse = np.nanmean((actual_ratings - test_user_predicted_ratings)**2)\n",
    "rmse = np.sqrt(mse)\n",
    "mae = np.nanmean(np.abs(actual_ratings - test_user_predicted_ratings))\n",
    "\n",
    "print(\"[Metric Evaluation]\")\n",
    "print(\"Mean Squared Error (MSE):\", mse)\n",
    "print(\"Root Mean Squared Error (RMSE):\", rmse)\n",
    "print(\"Mean Absolute Error (MAE):\", mae)"
   ]
  },
  {
   "cell_type": "code",
   "execution_count": null,
   "metadata": {
    "id": "9acANoO_Csg0"
   },
   "outputs": [],
   "source": [
    "def getReviewData(x):\n",
    "  product_sentiments = data[data['laundry_id'] == x]['sentiment_score']\n",
    "  sentiment_score = product_sentiments.mean()\n",
    "  return sentiment_score\n",
    "\n",
    "def rankRecommendation(final_rating, user_id, data, no_rec):\n",
    "  user_ratings = final_rating.loc[user_id]\n",
    "  recommendation = user_ratings.sort_values(ascending=False)[:no_rec]\n",
    "\n",
    "  recommendation_table = pd.DataFrame(recommendation).reset_index().rename(columns={user_id: 'predicted_ratings'})\n",
    "  recommendation_table.insert(0, 'user_id', user_id)\n",
    "  # recommendation_table = recommendation_table[recommendation_table['predicted_ratings'] != 0]\n",
    "  # display(recommendation_table)\n",
    "\n",
    "  recommendation_table['sentiment_score'] = recommendation_table['laundry_id'].apply(getReviewData)\n",
    "  recommendation_table['product_ranking_score'] = recommendation_table['predicted_ratings'] + recommendation_table['sentiment_score']\n",
    "  display(recommendation_table.sort_values(by='product_ranking_score', ascending=False).head(no_rec))"
   ]
  },
  {
   "cell_type": "code",
   "execution_count": null,
   "metadata": {
    "colab": {
     "base_uri": "https://localhost:8080/",
     "height": 1000
    },
    "id": "dzHYe4mdH2d2",
    "outputId": "1e40edb2-23cb-4ee4-8bde-cd8d640583be"
   },
   "outputs": [],
   "source": [
    "user_id = 25\n",
    "no_rec = 15\n",
    "\n",
    "recommendation_table = rankRecommendation(final_rating, user_id, data, no_rec)"
   ]
  }
 ],
 "metadata": {
  "colab": {
   "provenance": []
  },
  "kernelspec": {
   "display_name": "Python 3 (ipykernel)",
   "language": "python",
   "name": "python3"
  },
  "language_info": {
   "codemirror_mode": {
    "name": "ipython",
    "version": 3
   },
   "file_extension": ".py",
   "mimetype": "text/x-python",
   "name": "python",
   "nbconvert_exporter": "python",
   "pygments_lexer": "ipython3",
   "version": "3.10.9"
  }
 },
 "nbformat": 4,
 "nbformat_minor": 1
}
