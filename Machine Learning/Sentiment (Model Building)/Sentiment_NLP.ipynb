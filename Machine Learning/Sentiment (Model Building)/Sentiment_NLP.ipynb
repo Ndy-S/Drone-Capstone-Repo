{
 "cells": [
  {
   "cell_type": "code",
   "execution_count": 1,
   "metadata": {},
   "outputs": [],
   "source": [
    "# import library\n",
    "import numpy as np\n",
    "import pandas as pd\n",
    "import matplotlib.pyplot as plt\n",
    "import re\n",
    "import string\n",
    "import emoji\n",
    "\n",
    "import tensorflow as tf\n",
    "from tensorflow.keras.preprocessing.text import Tokenizer\n",
    "from tensorflow.keras.preprocessing.sequence import pad_sequences\n",
    "from tensorflow.keras import regularizers\n",
    "\n",
    "# stemmer Sastrawi\n",
    "from Sastrawi.Stemmer.StemmerFactory import StemmerFactory"
   ]
  },
  {
   "cell_type": "code",
   "execution_count": 2,
   "metadata": {},
   "outputs": [
    {
     "data": {
      "text/html": [
       "<div>\n",
       "<style scoped>\n",
       "    .dataframe tbody tr th:only-of-type {\n",
       "        vertical-align: middle;\n",
       "    }\n",
       "\n",
       "    .dataframe tbody tr th {\n",
       "        vertical-align: top;\n",
       "    }\n",
       "\n",
       "    .dataframe thead th {\n",
       "        text-align: right;\n",
       "    }\n",
       "</style>\n",
       "<table border=\"1\" class=\"dataframe\">\n",
       "  <thead>\n",
       "    <tr style=\"text-align: right;\">\n",
       "      <th></th>\n",
       "      <th>review_rating</th>\n",
       "      <th>review_text</th>\n",
       "    </tr>\n",
       "  </thead>\n",
       "  <tbody>\n",
       "    <tr>\n",
       "      <th>0</th>\n",
       "      <td>5</td>\n",
       "      <td>akhirnya bisa nemu laundry yang bisa antar jem...</td>\n",
       "    </tr>\n",
       "    <tr>\n",
       "      <th>1</th>\n",
       "      <td>5</td>\n",
       "      <td>Layanan yang sangat baik dan kualitas yang bai...</td>\n",
       "    </tr>\n",
       "    <tr>\n",
       "      <th>2</th>\n",
       "      <td>5</td>\n",
       "      <td>Ok hasil kerja cuciannya bagus dan bersih wang...</td>\n",
       "    </tr>\n",
       "    <tr>\n",
       "      <th>3</th>\n",
       "      <td>1</td>\n",
       "      <td>1 Baju stel perempuan harga 900 ribu merek Mis...</td>\n",
       "    </tr>\n",
       "    <tr>\n",
       "      <th>4</th>\n",
       "      <td>1</td>\n",
       "      <td>Cuci disini, baju yang tadinya bagus, malah ja...</td>\n",
       "    </tr>\n",
       "  </tbody>\n",
       "</table>\n",
       "</div>"
      ],
      "text/plain": [
       "   review_rating                                        review_text\n",
       "0              5  akhirnya bisa nemu laundry yang bisa antar jem...\n",
       "1              5  Layanan yang sangat baik dan kualitas yang bai...\n",
       "2              5  Ok hasil kerja cuciannya bagus dan bersih wang...\n",
       "3              1  1 Baju stel perempuan harga 900 ribu merek Mis...\n",
       "4              1  Cuci disini, baju yang tadinya bagus, malah ja..."
      ]
     },
     "execution_count": 2,
     "metadata": {},
     "output_type": "execute_result"
    }
   ],
   "source": [
    "# Read datasets\n",
    "df = pd.read_excel('laundry_reviews_dataset.xlsx')\n",
    "df.head()"
   ]
  },
  {
   "cell_type": "code",
   "execution_count": 3,
   "metadata": {},
   "outputs": [
    {
     "data": {
      "text/plain": [
       "'akhirnya bisa nemu laundry yang bisa antar jemput barokalloh nuhun suka cuci'"
      ]
     },
     "execution_count": 3,
     "metadata": {},
     "output_type": "execute_result"
    }
   ],
   "source": [
    "# Preprocessing\n",
    "## Drop all columns except review_text\n",
    "df.dropna(subset=['review_text'], inplace=True)\n",
    "\n",
    "df['review_text'] = df['review_text'].str.lower()\n",
    "df['review_text'] = df['review_text'].astype(str)\n",
    "df['review_text'] = df['review_text'].apply(lambda x: re.sub(r\"\\d+\", \"\", x))\n",
    "df['review_text'] = df['review_text'].apply(lambda x: x.translate(str.maketrans(\"\", \"\", string.punctuation)))\n",
    "df['review_text'] = df['review_text'].str.strip()\n",
    "df['review_text'] = df['review_text'].apply(lambda x: re.sub('\\s+', ' ', x))\n",
    "df['review_text'] = df['review_text'].apply(lambda x: re.sub(r'[\\u2070-\\u209F\\u00B2-\\u00B3\\u00B9-\\u00BF\\u02B0-\\u036F\\u1AB0-\\u1AFF\\u2090-\\u2094]+', '', x))\n",
    "\n",
    "df['review_text'] = df['review_text'].apply(lambda x: emoji.demojize(x))\n",
    "\n",
    "df['review_text'] = df['review_text'].apply(lambda x: x.translate(str.maketrans(string.punctuation, ' ' * len(string.punctuation))))\n",
    "df['review_text'] = df['review_text'].str.strip()\n",
    "df['review_text'] = df['review_text'].apply(lambda x: re.sub('\\s+', ' ', x))\n",
    "\n",
    "df['review_text'] = df['review_text'].apply(lambda x: re.sub(r'[^\\u0000-\\u007F\\uD800-\\uDBFF\\uDC00-\\uDFFF]+', '', x))\n",
    "\n",
    "df['review_text'][0]"
   ]
  },
  {
   "cell_type": "code",
   "execution_count": 4,
   "metadata": {},
   "outputs": [
    {
     "name": "stdout",
     "output_type": "stream",
     "text": [
      "Count of 0 (Negative) sentiment: 1002\n",
      "Count of 1 (Positive) sentiment: 1197\n"
     ]
    }
   ],
   "source": [
    "# Assign label to negative and positive reviews\n",
    "df['labels'] = df.review_rating.apply(lambda x: 0 if x in [1, 2, 3] else 1)\n",
    "df.head()\n",
    "\n",
    "# Check each label total reviews data\n",
    "lenNegSentiment = df['labels'].value_counts()[0]\n",
    "lenPosSentiment = df['labels'].value_counts()[1]\n",
    "print(\"Count of 0 (Negative) sentiment:\", lenNegSentiment)\n",
    "print(\"Count of 1 (Positive) sentiment:\", lenPosSentiment)"
   ]
  },
  {
   "cell_type": "code",
   "execution_count": 5,
   "metadata": {},
   "outputs": [],
   "source": [
    "# # Balancing Negative and Positive Reviews\n",
    "\n",
    "# posData = df[df['labels'] == 1]\n",
    "# negData = df[df['labels'] == 0]\n",
    "\n",
    "# randPosData = posData.sample(n=1000, random_state=40)\n",
    "# randNegData = negData.sample(n=1000, random_state=40)\n",
    "\n",
    "# randCombinedData = pd.concat([randPosData, randNegData])\n",
    "\n",
    "# df = df.loc[randCombinedData.index]\n",
    "# df['review_text'] = randCombinedData['review_text']\n",
    "\n",
    "# lenNegSentiment = df['labels'].value_counts()[0]\n",
    "# lenPosSentiment = df['labels'].value_counts()[1]\n",
    "# print(\"Count of 0 (Negative) sentiment:\", lenNegSentiment)\n",
    "# print(\"Count of 1 (Positive) sentiment:\", lenPosSentiment)"
   ]
  },
  {
   "cell_type": "code",
   "execution_count": 6,
   "metadata": {},
   "outputs": [],
   "source": [
    "# define the required variabel for preprocessing\n",
    "vocab_size = 5000\n",
    "embedding_dim = 16\n",
    "max_length = 120\n",
    "trunc_type = 'post'\n",
    "oov_tok = '<OOV>'\n",
    "padding_type = 'post'\n",
    "training_split = 0.8"
   ]
  },
  {
   "cell_type": "code",
   "execution_count": 7,
   "metadata": {},
   "outputs": [],
   "source": [
    "df_preproccessing = df.copy()"
   ]
  },
  {
   "cell_type": "code",
   "execution_count": 8,
   "metadata": {},
   "outputs": [],
   "source": [
    "# create function for remove stop_words \n",
    "def remove_stopwords(sentences, stopwords):\n",
    "    \"\"\"\n",
    "    Removes a list of stopwords\n",
    "    \n",
    "    Args:\n",
    "        sentence (string): sentence to remove the stopwords from\n",
    "        stopwords (list) : list stopwrods\n",
    "    \n",
    "    Returns:\n",
    "        sentence (string): lowercase sentence without the stopwords\n",
    "    \"\"\"\n",
    "    # List of stopwords\n",
    "    \n",
    "    # Sentence converted to lowercase-only\n",
    "    sentence = sentences.lower()\n",
    "\n",
    "    words = sentence.split()\n",
    "    no_words = [w for w in words if w not in stopwords]\n",
    "    sentence = \" \".join(no_words)\n",
    "\n",
    "    return sentence"
   ]
  },
  {
   "cell_type": "code",
   "execution_count": 9,
   "metadata": {},
   "outputs": [],
   "source": [
    "# create function for split data\n",
    "def train_val_split(sentences, labels, size_training_split):\n",
    "    \n",
    "    train_size = round(len(sentences) * size_training_split)\n",
    "\n",
    "    # training dataset\n",
    "    training_reviews = sentences[:train_size]\n",
    "    training_labels =  labels[:train_size]\n",
    "\n",
    "    # validations data\n",
    "    validation_review = sentences[train_size:]\n",
    "    validation_labels = labels[train_size:]\n",
    "\n",
    "    return training_reviews, validation_review, training_labels, validation_labels"
   ]
  },
  {
   "cell_type": "code",
   "execution_count": 10,
   "metadata": {},
   "outputs": [
    {
     "name": "stdout",
     "output_type": "stream",
     "text": [
      "There are 1759 sentences for training.\n",
      "\n",
      "There are 1759 labels for training.\n",
      "\n",
      "There are 440 sentences for validation.\n",
      "\n",
      "There are 440 labels for validation.\n"
     ]
    }
   ],
   "source": [
    "# Split training and testing\n",
    "sentences = df_preproccessing['review_text']\n",
    "labels = df_preproccessing['labels']\n",
    "train_sentences, test_sentences, train_labels, test_labels = train_val_split(sentences, labels, training_split)\n",
    "\n",
    "print(f\"There are {len(train_sentences)} sentences for training.\\n\")\n",
    "print(f\"There are {len(train_labels)} labels for training.\\n\")\n",
    "print(f\"There are {len(test_sentences)} sentences for validation.\\n\")\n",
    "print(f\"There are {len(test_labels)} labels for validation.\")"
   ]
  },
  {
   "cell_type": "code",
   "execution_count": 11,
   "metadata": {},
   "outputs": [
    {
     "name": "stdout",
     "output_type": "stream",
     "text": [
      "785\n"
     ]
    }
   ],
   "source": [
    "# read file stopwords.txt and convert into list stopwords\n",
    "my_file = open(\"stopword_tweet_pilkada_DKI_2017.csv\", \"r\")\n",
    "  \n",
    "# reading the file\n",
    "data = my_file.read()\n",
    "  \n",
    "# replacing end splitting the text \n",
    "# when newline ('\\n') is seen.\n",
    "stopwords = data.split(\"\\n\")\n",
    "\n",
    "print(len(stopwords))"
   ]
  },
  {
   "cell_type": "code",
   "execution_count": 12,
   "metadata": {},
   "outputs": [],
   "source": [
    "# remove stopwords \n",
    "train_sentences = train_sentences.apply(lambda x: remove_stopwords(x, stopwords))"
   ]
  },
  {
   "cell_type": "code",
   "execution_count": 13,
   "metadata": {},
   "outputs": [
    {
     "name": "stdout",
     "output_type": "stream",
     "text": [
      "before drop stopwords :  cuci disini baju yang tadinya bagus malah jadi bercak hitam saya tunggu ganti ruginya\n",
      "after drop stopwords :  cuci baju bagus bercak hitam tunggu ganti ruginya\n"
     ]
    }
   ],
   "source": [
    "print(\"before drop stopwords : \", df_preproccessing['review_text'][4])\n",
    "print(\"after drop stopwords : \" , train_sentences[4])"
   ]
  },
  {
   "cell_type": "code",
   "execution_count": 14,
   "metadata": {},
   "outputs": [],
   "source": [
    "# Preprocessing Stemming \n",
    "factory = StemmerFactory()\n",
    "stemmer = factory.create_stemmer()\n",
    "\n",
    "train_sentences = train_sentences.apply(lambda x: stemmer.stem(x))\n"
   ]
  },
  {
   "cell_type": "code",
   "execution_count": 15,
   "metadata": {},
   "outputs": [
    {
     "name": "stdout",
     "output_type": "stream",
     "text": [
      "The review before stemmer :  cuci disini baju yang tadinya bagus malah jadi bercak hitam saya tunggu ganti ruginya\n",
      "The review after stemmer :  cuci baju bagus bercak hitam tunggu ganti rugi\n"
     ]
    }
   ],
   "source": [
    "print(\"The review before stemmer : \", df_preproccessing['review_text'][4])\n",
    "print(\"The review after stemmer : \", train_sentences[4])"
   ]
  },
  {
   "cell_type": "code",
   "execution_count": 16,
   "metadata": {},
   "outputs": [
    {
     "name": "stdout",
     "output_type": "stream",
     "text": [
      "Vocabulary contains 5125 words\n",
      "\n",
      "<OOV> token included in vocabulary\n"
     ]
    }
   ],
   "source": [
    "tokenizer = Tokenizer(num_words=vocab_size, oov_token=oov_tok)\n",
    "tokenizer.fit_on_texts(train_sentences)\n",
    "word_index = tokenizer.word_index\n",
    "\n",
    "print(f\"Vocabulary contains {len(word_index)} words\\n\")\n",
    "print(\"<OOV> token included in vocabulary\" if \"<OOV>\" in word_index else \"<OOV> token NOT included in vocabulary\")"
   ]
  },
  {
   "cell_type": "code",
   "execution_count": 17,
   "metadata": {},
   "outputs": [],
   "source": [
    "trainSequences = tokenizer.texts_to_sequences(train_sentences)\n",
    "trainPadded = pad_sequences(trainSequences, maxlen=max_length, padding=padding_type , truncating=trunc_type)\n",
    "\n",
    "testSequences = tokenizer.texts_to_sequences(test_sentences)\n",
    "testPadded = pad_sequences(testSequences, maxlen=max_length, padding=padding_type, truncating=trunc_type)"
   ]
  },
  {
   "cell_type": "code",
   "execution_count": 18,
   "metadata": {},
   "outputs": [
    {
     "name": "stdout",
     "output_type": "stream",
     "text": [
      "Model: \"sequential\"\n",
      "_________________________________________________________________\n",
      " Layer (type)                Output Shape              Param #   \n",
      "=================================================================\n",
      " embedding (Embedding)       (None, 120, 16)           80000     \n",
      "                                                                 \n",
      " dropout (Dropout)           (None, 120, 16)           0         \n",
      "                                                                 \n",
      " global_average_pooling1d (G  (None, 16)               0         \n",
      " lobalAveragePooling1D)                                          \n",
      "                                                                 \n",
      " dense (Dense)               (None, 128)               2176      \n",
      "                                                                 \n",
      " dropout_1 (Dropout)         (None, 128)               0         \n",
      "                                                                 \n",
      " dense_1 (Dense)             (None, 1)                 129       \n",
      "                                                                 \n",
      "=================================================================\n",
      "Total params: 82,305\n",
      "Trainable params: 82,305\n",
      "Non-trainable params: 0\n",
      "_________________________________________________________________\n"
     ]
    }
   ],
   "source": [
    "model = tf.keras.Sequential([\n",
    "    tf.keras.layers.Embedding(vocab_size, embedding_dim, input_length=max_length),\n",
    "    tf.keras.layers.Dropout(0.2),\n",
    "    # tf.keras.layers.Bidirectional(tf.keras.layers.LSTM(64)),\n",
    "    tf.keras.layers.GlobalAveragePooling1D(),\n",
    "    tf.keras.layers.Dense(128, activation='relu', kernel_regularizer=tf.keras.regularizers.l2(0.01)),\n",
    "    tf.keras.layers.Dropout(0.2),\n",
    "    tf.keras.layers.Dense(1, activation='sigmoid')\n",
    "])\n",
    "\n",
    "model.compile(loss='binary_crossentropy', optimizer='adam', metrics=['accuracy'])\n",
    "\n",
    "model.summary()"
   ]
  },
  {
   "cell_type": "code",
   "execution_count": 19,
   "metadata": {},
   "outputs": [
    {
     "name": "stdout",
     "output_type": "stream",
     "text": [
      "Epoch 1/100\n",
      "55/55 [==============================] - 5s 44ms/step - loss: 0.8556 - accuracy: 0.6771 - val_loss: 1.0415 - val_accuracy: 0.0000e+00\n",
      "Epoch 2/100\n",
      "55/55 [==============================] - 1s 25ms/step - loss: 0.7061 - accuracy: 0.6805 - val_loss: 1.1206 - val_accuracy: 0.0000e+00\n",
      "Epoch 3/100\n",
      "55/55 [==============================] - 1s 16ms/step - loss: 0.6502 - accuracy: 0.6805 - val_loss: 1.1173 - val_accuracy: 0.0000e+00\n",
      "Epoch 4/100\n",
      "55/55 [==============================] - 1s 15ms/step - loss: 0.6274 - accuracy: 0.6805 - val_loss: 1.0912 - val_accuracy: 0.0114\n",
      "Epoch 5/100\n",
      "55/55 [==============================] - 2s 46ms/step - loss: 0.6139 - accuracy: 0.6811 - val_loss: 1.0700 - val_accuracy: 0.0568\n",
      "Epoch 6/100\n",
      "55/55 [==============================] - 1s 11ms/step - loss: 0.5968 - accuracy: 0.6896 - val_loss: 0.9946 - val_accuracy: 0.1455\n",
      "Epoch 7/100\n",
      "55/55 [==============================] - 3s 55ms/step - loss: 0.5770 - accuracy: 0.7067 - val_loss: 0.8375 - val_accuracy: 0.2932\n",
      "Epoch 8/100\n",
      "55/55 [==============================] - 1s 23ms/step - loss: 0.5483 - accuracy: 0.7402 - val_loss: 0.7166 - val_accuracy: 0.4682\n",
      "Epoch 9/100\n",
      "55/55 [==============================] - 2s 29ms/step - loss: 0.5163 - accuracy: 0.7720 - val_loss: 0.6732 - val_accuracy: 0.5659\n",
      "Epoch 10/100\n",
      "55/55 [==============================] - 1s 21ms/step - loss: 0.4836 - accuracy: 0.8141 - val_loss: 0.5260 - val_accuracy: 0.7045\n",
      "Epoch 11/100\n",
      "55/55 [==============================] - 1s 16ms/step - loss: 0.4528 - accuracy: 0.8420 - val_loss: 0.5038 - val_accuracy: 0.7273\n",
      "Epoch 12/100\n",
      "55/55 [==============================] - 1s 18ms/step - loss: 0.4245 - accuracy: 0.8516 - val_loss: 0.4383 - val_accuracy: 0.7773\n",
      "Epoch 13/100\n",
      "55/55 [==============================] - 1s 18ms/step - loss: 0.4051 - accuracy: 0.8738 - val_loss: 0.3694 - val_accuracy: 0.8227\n",
      "Epoch 14/100\n",
      "55/55 [==============================] - 1s 15ms/step - loss: 0.3828 - accuracy: 0.8806 - val_loss: 0.3635 - val_accuracy: 0.8227\n",
      "Epoch 15/100\n",
      "55/55 [==============================] - 1s 16ms/step - loss: 0.3613 - accuracy: 0.8908 - val_loss: 0.3630 - val_accuracy: 0.8227\n",
      "Epoch 16/100\n",
      "55/55 [==============================] - 1s 17ms/step - loss: 0.3476 - accuracy: 0.8999 - val_loss: 0.3368 - val_accuracy: 0.8364\n",
      "Epoch 17/100\n",
      "55/55 [==============================] - 1s 15ms/step - loss: 0.3349 - accuracy: 0.9022 - val_loss: 0.3117 - val_accuracy: 0.8545\n",
      "Epoch 18/100\n",
      "55/55 [==============================] - 1s 17ms/step - loss: 0.3204 - accuracy: 0.9147 - val_loss: 0.2852 - val_accuracy: 0.8795\n",
      "Epoch 19/100\n",
      "55/55 [==============================] - 1s 17ms/step - loss: 0.3175 - accuracy: 0.9136 - val_loss: 0.2976 - val_accuracy: 0.8545\n",
      "Epoch 20/100\n",
      "55/55 [==============================] - 1s 16ms/step - loss: 0.3011 - accuracy: 0.9215 - val_loss: 0.2782 - val_accuracy: 0.8773\n",
      "Epoch 21/100\n",
      "55/55 [==============================] - 1s 17ms/step - loss: 0.2906 - accuracy: 0.9238 - val_loss: 0.2477 - val_accuracy: 0.9068\n",
      "Epoch 22/100\n",
      "55/55 [==============================] - 1s 17ms/step - loss: 0.2814 - accuracy: 0.9204 - val_loss: 0.2200 - val_accuracy: 0.9273\n",
      "Epoch 23/100\n",
      "55/55 [==============================] - 1s 14ms/step - loss: 0.2749 - accuracy: 0.9335 - val_loss: 0.2515 - val_accuracy: 0.9045\n",
      "Epoch 24/100\n",
      "55/55 [==============================] - 1s 15ms/step - loss: 0.2666 - accuracy: 0.9335 - val_loss: 0.2010 - val_accuracy: 0.9409\n",
      "Epoch 25/100\n",
      "55/55 [==============================] - 1s 18ms/step - loss: 0.2611 - accuracy: 0.9358 - val_loss: 0.2321 - val_accuracy: 0.9068\n",
      "Epoch 26/100\n",
      "55/55 [==============================] - 1s 18ms/step - loss: 0.2579 - accuracy: 0.9380 - val_loss: 0.2246 - val_accuracy: 0.9091\n",
      "Epoch 27/100\n",
      "55/55 [==============================] - 1s 20ms/step - loss: 0.2491 - accuracy: 0.9420 - val_loss: 0.2235 - val_accuracy: 0.9091\n",
      "Epoch 28/100\n",
      "55/55 [==============================] - 2s 31ms/step - loss: 0.2467 - accuracy: 0.9358 - val_loss: 0.2043 - val_accuracy: 0.9250\n",
      "Epoch 29/100\n",
      "55/55 [==============================] - 1s 16ms/step - loss: 0.2378 - accuracy: 0.9477 - val_loss: 0.2299 - val_accuracy: 0.9068\n",
      "Epoch 30/100\n",
      "55/55 [==============================] - 1s 15ms/step - loss: 0.2324 - accuracy: 0.9460 - val_loss: 0.1774 - val_accuracy: 0.9500\n",
      "Epoch 31/100\n",
      "55/55 [==============================] - 1s 16ms/step - loss: 0.2314 - accuracy: 0.9454 - val_loss: 0.1842 - val_accuracy: 0.9432\n",
      "Epoch 32/100\n",
      "55/55 [==============================] - 1s 15ms/step - loss: 0.2262 - accuracy: 0.9414 - val_loss: 0.1899 - val_accuracy: 0.9409\n",
      "Epoch 33/100\n",
      "55/55 [==============================] - 1s 20ms/step - loss: 0.2200 - accuracy: 0.9483 - val_loss: 0.1968 - val_accuracy: 0.9227\n",
      "Epoch 34/100\n",
      "55/55 [==============================] - 1s 18ms/step - loss: 0.2151 - accuracy: 0.9545 - val_loss: 0.2061 - val_accuracy: 0.9136\n",
      "Epoch 35/100\n",
      "55/55 [==============================] - 1s 17ms/step - loss: 0.2119 - accuracy: 0.9477 - val_loss: 0.1927 - val_accuracy: 0.9227\n",
      "Epoch 36/100\n",
      "55/55 [==============================] - 1s 16ms/step - loss: 0.2109 - accuracy: 0.9488 - val_loss: 0.1734 - val_accuracy: 0.9477\n",
      "Epoch 37/100\n",
      "55/55 [==============================] - 1s 23ms/step - loss: 0.2048 - accuracy: 0.9500 - val_loss: 0.1811 - val_accuracy: 0.9409\n",
      "Epoch 38/100\n",
      "55/55 [==============================] - 2s 30ms/step - loss: 0.2015 - accuracy: 0.9574 - val_loss: 0.1808 - val_accuracy: 0.9386\n",
      "Epoch 39/100\n",
      "55/55 [==============================] - 1s 20ms/step - loss: 0.1989 - accuracy: 0.9551 - val_loss: 0.1485 - val_accuracy: 0.9568\n",
      "Epoch 40/100\n",
      "55/55 [==============================] - 1s 21ms/step - loss: 0.1939 - accuracy: 0.9585 - val_loss: 0.1798 - val_accuracy: 0.9386\n",
      "Epoch 41/100\n",
      "55/55 [==============================] - 1s 17ms/step - loss: 0.1923 - accuracy: 0.9568 - val_loss: 0.1595 - val_accuracy: 0.9523\n",
      "Epoch 42/100\n",
      "55/55 [==============================] - 1s 20ms/step - loss: 0.1895 - accuracy: 0.9534 - val_loss: 0.1513 - val_accuracy: 0.9523\n",
      "Epoch 43/100\n",
      "55/55 [==============================] - 1s 18ms/step - loss: 0.1840 - accuracy: 0.9613 - val_loss: 0.1615 - val_accuracy: 0.9523\n",
      "Epoch 44/100\n",
      "55/55 [==============================] - 3s 52ms/step - loss: 0.1868 - accuracy: 0.9534 - val_loss: 0.1396 - val_accuracy: 0.9568\n",
      "Epoch 45/100\n",
      "55/55 [==============================] - 2s 28ms/step - loss: 0.1785 - accuracy: 0.9665 - val_loss: 0.1543 - val_accuracy: 0.9523\n",
      "Epoch 46/100\n",
      "55/55 [==============================] - 2s 33ms/step - loss: 0.1776 - accuracy: 0.9596 - val_loss: 0.1227 - val_accuracy: 0.9682\n",
      "Epoch 47/100\n",
      "55/55 [==============================] - 1s 26ms/step - loss: 0.1746 - accuracy: 0.9630 - val_loss: 0.1364 - val_accuracy: 0.9568\n",
      "Epoch 48/100\n",
      "55/55 [==============================] - 2s 32ms/step - loss: 0.1762 - accuracy: 0.9602 - val_loss: 0.1490 - val_accuracy: 0.9523\n",
      "Epoch 49/100\n",
      "55/55 [==============================] - 1s 25ms/step - loss: 0.1695 - accuracy: 0.9642 - val_loss: 0.1366 - val_accuracy: 0.9591\n",
      "Epoch 50/100\n",
      "55/55 [==============================] - 2s 31ms/step - loss: 0.1687 - accuracy: 0.9613 - val_loss: 0.1578 - val_accuracy: 0.9477\n",
      "Epoch 51/100\n",
      "55/55 [==============================] - 2s 30ms/step - loss: 0.1656 - accuracy: 0.9653 - val_loss: 0.1276 - val_accuracy: 0.9614\n",
      "Epoch 52/100\n",
      "55/55 [==============================] - 3s 49ms/step - loss: 0.1622 - accuracy: 0.9608 - val_loss: 0.1088 - val_accuracy: 0.9773\n",
      "Epoch 53/100\n",
      "55/55 [==============================] - 2s 31ms/step - loss: 0.1623 - accuracy: 0.9687 - val_loss: 0.1395 - val_accuracy: 0.9591\n",
      "Epoch 54/100\n",
      "55/55 [==============================] - 2s 41ms/step - loss: 0.1581 - accuracy: 0.9648 - val_loss: 0.1277 - val_accuracy: 0.9614\n",
      "Epoch 55/100\n",
      "55/55 [==============================] - 1s 25ms/step - loss: 0.1577 - accuracy: 0.9648 - val_loss: 0.1552 - val_accuracy: 0.9477\n",
      "Epoch 56/100\n",
      "55/55 [==============================] - 2s 37ms/step - loss: 0.1573 - accuracy: 0.9676 - val_loss: 0.1284 - val_accuracy: 0.9614\n",
      "Epoch 57/100\n",
      "55/55 [==============================] - 1s 22ms/step - loss: 0.1526 - accuracy: 0.9682 - val_loss: 0.1084 - val_accuracy: 0.9705\n",
      "Epoch 58/100\n",
      "55/55 [==============================] - 2s 36ms/step - loss: 0.1504 - accuracy: 0.9687 - val_loss: 0.1295 - val_accuracy: 0.9614\n",
      "Epoch 59/100\n",
      "55/55 [==============================] - 1s 19ms/step - loss: 0.1490 - accuracy: 0.9642 - val_loss: 0.1154 - val_accuracy: 0.9659\n",
      "Epoch 60/100\n",
      "55/55 [==============================] - 1s 18ms/step - loss: 0.1473 - accuracy: 0.9693 - val_loss: 0.1292 - val_accuracy: 0.9614\n",
      "Epoch 61/100\n",
      "55/55 [==============================] - 1s 17ms/step - loss: 0.1446 - accuracy: 0.9682 - val_loss: 0.1286 - val_accuracy: 0.9614\n",
      "Epoch 62/100\n",
      "55/55 [==============================] - 1s 22ms/step - loss: 0.1429 - accuracy: 0.9699 - val_loss: 0.0980 - val_accuracy: 0.9773\n",
      "Epoch 63/100\n",
      "55/55 [==============================] - 1s 20ms/step - loss: 0.1444 - accuracy: 0.9693 - val_loss: 0.1194 - val_accuracy: 0.9614\n",
      "Epoch 64/100\n",
      "55/55 [==============================] - 1s 17ms/step - loss: 0.1398 - accuracy: 0.9750 - val_loss: 0.1170 - val_accuracy: 0.9636\n",
      "Epoch 65/100\n",
      "55/55 [==============================] - 1s 23ms/step - loss: 0.1386 - accuracy: 0.9682 - val_loss: 0.1163 - val_accuracy: 0.9636\n",
      "Epoch 66/100\n",
      "55/55 [==============================] - 1s 20ms/step - loss: 0.1384 - accuracy: 0.9693 - val_loss: 0.1114 - val_accuracy: 0.9659\n",
      "Epoch 67/100\n",
      "55/55 [==============================] - 2s 40ms/step - loss: 0.1382 - accuracy: 0.9699 - val_loss: 0.0923 - val_accuracy: 0.9773\n",
      "Epoch 68/100\n",
      "55/55 [==============================] - 3s 48ms/step - loss: 0.1366 - accuracy: 0.9699 - val_loss: 0.1048 - val_accuracy: 0.9659\n",
      "Epoch 69/100\n",
      "55/55 [==============================] - 3s 46ms/step - loss: 0.1319 - accuracy: 0.9750 - val_loss: 0.1165 - val_accuracy: 0.9614\n",
      "Epoch 70/100\n",
      "55/55 [==============================] - 1s 23ms/step - loss: 0.1321 - accuracy: 0.9710 - val_loss: 0.1279 - val_accuracy: 0.9591\n",
      "Epoch 71/100\n",
      "55/55 [==============================] - 1s 16ms/step - loss: 0.1296 - accuracy: 0.9716 - val_loss: 0.1020 - val_accuracy: 0.9659\n",
      "Epoch 72/100\n",
      "55/55 [==============================] - 1s 15ms/step - loss: 0.1275 - accuracy: 0.9756 - val_loss: 0.1138 - val_accuracy: 0.9636\n",
      "Epoch 73/100\n",
      "55/55 [==============================] - 1s 14ms/step - loss: 0.1234 - accuracy: 0.9761 - val_loss: 0.1215 - val_accuracy: 0.9591\n",
      "Epoch 74/100\n",
      "55/55 [==============================] - 1s 15ms/step - loss: 0.1270 - accuracy: 0.9756 - val_loss: 0.1293 - val_accuracy: 0.9591\n",
      "Epoch 75/100\n",
      "55/55 [==============================] - 1s 16ms/step - loss: 0.1245 - accuracy: 0.9727 - val_loss: 0.0978 - val_accuracy: 0.9682\n",
      "Epoch 76/100\n",
      "55/55 [==============================] - 1s 13ms/step - loss: 0.1223 - accuracy: 0.9784 - val_loss: 0.1024 - val_accuracy: 0.9659\n",
      "Epoch 77/100\n",
      "55/55 [==============================] - 1s 14ms/step - loss: 0.1202 - accuracy: 0.9773 - val_loss: 0.0966 - val_accuracy: 0.9682\n",
      "Epoch 78/100\n",
      "55/55 [==============================] - 1s 13ms/step - loss: 0.1216 - accuracy: 0.9727 - val_loss: 0.1165 - val_accuracy: 0.9591\n",
      "Epoch 79/100\n",
      "55/55 [==============================] - 1s 14ms/step - loss: 0.1183 - accuracy: 0.9761 - val_loss: 0.1074 - val_accuracy: 0.9659\n",
      "Epoch 80/100\n",
      "55/55 [==============================] - 1s 15ms/step - loss: 0.1144 - accuracy: 0.9795 - val_loss: 0.1156 - val_accuracy: 0.9591\n",
      "Epoch 81/100\n",
      "55/55 [==============================] - 1s 15ms/step - loss: 0.1183 - accuracy: 0.9738 - val_loss: 0.0930 - val_accuracy: 0.9705\n",
      "Epoch 82/100\n",
      "55/55 [==============================] - 1s 14ms/step - loss: 0.1158 - accuracy: 0.9767 - val_loss: 0.1054 - val_accuracy: 0.9659\n",
      "Epoch 83/100\n",
      "55/55 [==============================] - 1s 18ms/step - loss: 0.1136 - accuracy: 0.9784 - val_loss: 0.1001 - val_accuracy: 0.9659\n",
      "Epoch 84/100\n",
      "55/55 [==============================] - 1s 15ms/step - loss: 0.1138 - accuracy: 0.9761 - val_loss: 0.0898 - val_accuracy: 0.9705\n",
      "Epoch 85/100\n",
      "55/55 [==============================] - 1s 14ms/step - loss: 0.1140 - accuracy: 0.9784 - val_loss: 0.0955 - val_accuracy: 0.9659\n",
      "Epoch 86/100\n",
      "55/55 [==============================] - 1s 22ms/step - loss: 0.1090 - accuracy: 0.9829 - val_loss: 0.0973 - val_accuracy: 0.9659\n",
      "Epoch 87/100\n",
      "55/55 [==============================] - 1s 14ms/step - loss: 0.1112 - accuracy: 0.9761 - val_loss: 0.0930 - val_accuracy: 0.9659\n",
      "Epoch 88/100\n",
      "55/55 [==============================] - 1s 19ms/step - loss: 0.1093 - accuracy: 0.9801 - val_loss: 0.0971 - val_accuracy: 0.9659\n",
      "Epoch 89/100\n",
      "55/55 [==============================] - 1s 14ms/step - loss: 0.1036 - accuracy: 0.9829 - val_loss: 0.0938 - val_accuracy: 0.9659\n",
      "Epoch 90/100\n",
      "55/55 [==============================] - 1s 15ms/step - loss: 0.1077 - accuracy: 0.9784 - val_loss: 0.0878 - val_accuracy: 0.9705\n",
      "Epoch 91/100\n",
      "55/55 [==============================] - 1s 14ms/step - loss: 0.1066 - accuracy: 0.9812 - val_loss: 0.0993 - val_accuracy: 0.9659\n",
      "Epoch 92/100\n",
      "55/55 [==============================] - 1s 14ms/step - loss: 0.1007 - accuracy: 0.9807 - val_loss: 0.1027 - val_accuracy: 0.9636\n",
      "Epoch 93/100\n",
      "55/55 [==============================] - 1s 13ms/step - loss: 0.1024 - accuracy: 0.9824 - val_loss: 0.0953 - val_accuracy: 0.9659\n",
      "Epoch 94/100\n",
      "55/55 [==============================] - 1s 16ms/step - loss: 0.1009 - accuracy: 0.9829 - val_loss: 0.0893 - val_accuracy: 0.9659\n",
      "Epoch 95/100\n",
      "55/55 [==============================] - 1s 13ms/step - loss: 0.1009 - accuracy: 0.9829 - val_loss: 0.0945 - val_accuracy: 0.9659\n",
      "Epoch 96/100\n",
      "55/55 [==============================] - 1s 13ms/step - loss: 0.1018 - accuracy: 0.9812 - val_loss: 0.1137 - val_accuracy: 0.9591\n",
      "Epoch 97/100\n",
      "55/55 [==============================] - 1s 16ms/step - loss: 0.1007 - accuracy: 0.9778 - val_loss: 0.0938 - val_accuracy: 0.9659\n",
      "Epoch 98/100\n",
      "55/55 [==============================] - 1s 14ms/step - loss: 0.0952 - accuracy: 0.9858 - val_loss: 0.0898 - val_accuracy: 0.9659\n",
      "Epoch 99/100\n",
      "55/55 [==============================] - 1s 17ms/step - loss: 0.0982 - accuracy: 0.9807 - val_loss: 0.0841 - val_accuracy: 0.9705\n",
      "Epoch 100/100\n",
      "55/55 [==============================] - 1s 14ms/step - loss: 0.0988 - accuracy: 0.9801 - val_loss: 0.0856 - val_accuracy: 0.9682\n"
     ]
    }
   ],
   "source": [
    "trainingLabelsArr = np.array(train_labels)\n",
    "testingLabelsArr = np.array(test_labels)\n",
    "\n",
    "num_epochs = 100\n",
    "history = model.fit(trainPadded, trainingLabelsArr, epochs=num_epochs, validation_data=(testPadded, testingLabelsArr))"
   ]
  },
  {
   "cell_type": "code",
   "execution_count": 20,
   "metadata": {},
   "outputs": [
    {
     "name": "stdout",
     "output_type": "stream",
     "text": [
      "14/14 [==============================] - 0s 3ms/step - loss: 0.0856 - accuracy: 0.9682\n"
     ]
    },
    {
     "data": {
      "text/plain": [
       "[0.0856163278222084, 0.9681817889213562]"
      ]
     },
     "execution_count": 20,
     "metadata": {},
     "output_type": "execute_result"
    }
   ],
   "source": [
    "model.evaluate(testPadded, testingLabelsArr)"
   ]
  },
  {
   "cell_type": "code",
   "execution_count": 21,
   "metadata": {},
   "outputs": [
    {
     "data": {
      "image/png": "[encoded data removed]",
      "text/plain": [
       "<Figure size 1000x500 with 2 Axes>"
      ]
     },
     "metadata": {},
     "output_type": "display_data"
    }
   ],
   "source": [
    "import matplotlib.pyplot as plt\n",
    "\n",
    "acc = history.history['accuracy']\n",
    "val_acc = history.history['val_accuracy']\n",
    "loss = history.history['loss']\n",
    "val_loss = history.history['val_loss']\n",
    "\n",
    "epochs = range(1, len(acc) + 1)\n",
    "\n",
    "plt.figure(figsize=(10, 5))\n",
    "\n",
    "plt.subplot(1, 2, 1)\n",
    "plt.plot(epochs, acc, 'r', label='Training Accuracy')\n",
    "plt.plot(epochs, val_acc, 'b', label='Validation Accuracy')\n",
    "plt.title('Training and Validation Accuracy')\n",
    "plt.xlabel('Epochs')\n",
    "plt.ylabel('Accuracy')\n",
    "plt.legend()\n",
    "\n",
    "plt.subplot(1, 2, 2)\n",
    "plt.plot(epochs, loss, 'r', label='Training Loss')\n",
    "plt.plot(epochs, val_loss, 'b', label='Validation Loss')\n",
    "plt.title('Training and Validation Loss')\n",
    "plt.xlabel('Epochs')\n",
    "plt.ylabel('Loss')\n",
    "plt.legend()\n",
    "\n",
    "plt.tight_layout()\n",
    "plt.show()"
   ]
  },
  {
   "cell_type": "code",
   "execution_count": 22,
   "metadata": {},
   "outputs": [],
   "source": [
    "def preprocessText(text):\n",
    "    text = text.lower()\n",
    "    text = re.sub(r\"\\d+\", \"\", text)\n",
    "    text = text.translate(str.maketrans(\"\", \"\", string.punctuation))\n",
    "    text = text.strip()\n",
    "    text = re.sub('\\s+', ' ', text)\n",
    "    text = re.sub(r'[\\u2070-\\u209F\\u00B2-\\u00B3\\u00B9-\\u00BF\\u02B0-\\u036F\\u1AB0-\\u1AFF\\u2090-\\u2094]+', '', text)\n",
    "    text = emoji.demojize(text)\n",
    "    text = text.translate(str.maketrans(string.punctuation, ' ' * len(string.punctuation)))\n",
    "    text = text.strip()\n",
    "    text = re.sub('\\s+', ' ', text)\n",
    "    text = re.sub(r'[^\\u0000-\\u007F\\uD800-\\uDBFF\\uDC00-\\uDFFF]+', '', text)\n",
    "    return text"
   ]
  },
  {
   "cell_type": "code",
   "execution_count": 23,
   "metadata": {},
   "outputs": [],
   "source": [
    "def preprocessToken(text):\n",
    "    # remove stop words\n",
    "    text = remove_stopwords(text, stopwords)\n",
    "\n",
    "    text = stemmer.stem(text)\n",
    "    \n",
    "    # tokenizer\n",
    "    tokenizer = Tokenizer(num_words=vocab_size, oov_token=oov_tok)\n",
    "    tokenizer.fit_on_texts(text)\n",
    "\n",
    "    return text"
   ]
  },
  {
   "cell_type": "code",
   "execution_count": 32,
   "metadata": {},
   "outputs": [
    {
     "name": "stdout",
     "output_type": "stream",
     "text": [
      "wangi bersih\n",
      "1/1 [==============================] - 0s 243ms/step\n",
      "[[4.5494494]]\n"
     ]
    },
    {
     "data": {
      "text/plain": [
       "['Positive Reviews']"
      ]
     },
     "execution_count": 32,
     "metadata": {},
     "output_type": "execute_result"
    }
   ],
   "source": [
    "# Test predicting\n",
    "input_text = \"wangi dan bersih\"\n",
    "\n",
    "\n",
    "preprocessedInputText = preprocessText(input_text)\n",
    "preprocessedInputText = preprocessToken(preprocessedInputText)\n",
    "print(preprocessedInputText)\n",
    "\n",
    "inputSequence = pad_sequences(tokenizer.texts_to_sequences([preprocessedInputText]), maxlen=max_length)\n",
    "predictions = (model.predict(inputSequence) * 5)\n",
    "print(predictions) \n",
    "\n",
    "predictedSentiments = [\"Positive Reviews\" if pred > 3.0 else \"Negative Reviews\" for pred in predictions]\n",
    "predictedSentiments "
   ]
  }
 ],
 "metadata": {
  "kernelspec": {
   "display_name": "Python 3 (ipykernel)",
   "language": "python",
   "name": "python3"
  },
  "language_info": {
   "codemirror_mode": {
    "name": "ipython",
    "version": 3
   },
   "file_extension": ".py",
   "mimetype": "text/x-python",
   "name": "python",
   "nbconvert_exporter": "python",
   "pygments_lexer": "ipython3",
   "version": "3.8.5"
  }
 },
 "nbformat": 4,
 "nbformat_minor": 2
}
